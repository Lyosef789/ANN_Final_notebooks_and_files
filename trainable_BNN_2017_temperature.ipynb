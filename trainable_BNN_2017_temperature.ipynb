{
 "cells": [
  {
   "cell_type": "code",
   "execution_count": null,
   "id": "870407c6",
   "metadata": {},
   "outputs": [],
   "source": [
    "from dtw import *\n",
    "import numpy as np\n",
    "import datetime\n",
    "import re\n",
    "import csv\n",
    "import pandas as pd\n",
    "import matplotlib.pyplot as plt\n",
    "import statistics"
   ]
  },
  {
   "cell_type": "code",
   "execution_count": null,
   "id": "423c0f28-fc73-4f47-940b-0278024f0f21",
   "metadata": {},
   "outputs": [],
   "source": [
    "# importing the libraries\n",
    "from sklearn.preprocessing import StandardScaler\n",
    "import tensorflow as tf\n",
    "import tensorflow_probability as tfp\n",
    "print(tf.reduce_sum(tf.random.normal([1000, 1000])))\n",
    "from tensorflow import keras\n",
    "from keras.models import Sequential\n",
    "from keras.layers import Dense\n",
    "from sklearn.model_selection import train_test_split\n",
    "from keras.models import load_model"
   ]
  },
  {
   "cell_type": "code",
   "execution_count": null,
   "id": "5802ac2f-551a-40ce-a892-d37112f3ad9c",
   "metadata": {},
   "outputs": [],
   "source": [
    "# reading your file for Wind data\n",
    "Wind_read_file = pd.read_csv(\"./data_files/WI_H1_SWE_2017.csv\", delimiter = ',', comment='#', \\\n",
    "                    parse_dates=[0], infer_datetime_format=True, na_values='-1.00000e+31') #  by convention we call it \"df\n",
    "Wind_read_file = Wind_read_file.rename(columns={Wind_read_file.columns[0]:\"Epoch\", Wind_read_file.columns[1]:\"PROTON_BULK_SPEED\", Wind_read_file.columns[2]:\"P+_W_NONLIN\", Wind_read_file.columns[3]:\"P+_DENSITY\", Wind_read_file.columns[4]:\"BX\", Wind_read_file.columns[5]:\"BY\", Wind_read_file.columns[6]:\"BZ\"})\n",
    "\n",
    "Wind_read_file\n"
   ]
  },
  {
   "cell_type": "code",
   "execution_count": null,
   "id": "6ae68c8d-32ed-45e8-961f-78846e51575d",
   "metadata": {},
   "outputs": [],
   "source": [
    "Wind_read_file_drop=Wind_read_file.dropna() #deleting nan values\n",
    "Wind_read_file_drop"
   ]
  },
  {
   "cell_type": "code",
   "execution_count": null,
   "id": "39bda114-4fa1-4bcf-92f1-ad2a93099c3e",
   "metadata": {},
   "outputs": [],
   "source": [
    "#keeping only values within the right range\n",
    "Wind_read_file_drop =Wind_read_file_drop[Wind_read_file_drop[\"P+_DENSITY\"].between(0.1, 50)]  #density values\n",
    "Wind_read_file_drop = Wind_read_file_drop[Wind_read_file_drop[\"P+_W_NONLIN\"].between(10, 150)]  #Temperature values\n",
    "Wind_read_file_drop = Wind_read_file_drop[Wind_read_file_drop[\"PROTON_BULK_SPEED\"].between(200, 900)]  #speed values\n",
    "\n",
    "Wind_read_file_drop = Wind_read_file_drop[Wind_read_file_drop[\"BX\"].between(-100, 100)]\n",
    "Wind_read_file_drop = Wind_read_file_drop[Wind_read_file_drop[\"BY\"].between(-100, 100)]\n",
    "Wind_read_file_drop = Wind_read_file_drop[Wind_read_file_drop[\"BZ\"].between(-100, 100)]\n",
    "\n",
    "\n",
    "# -100 < Bx < 100\n",
    "# -100 < By < 100\n",
    "# -100 < Bz < 100\n",
    "# 200 < proton speed < 900\n",
    "# 10 < proton thermal speed < 150\n",
    "# 0.1 < proton density < 50\n"
   ]
  },
  {
   "cell_type": "code",
   "execution_count": null,
   "id": "0e5e1c75-1cc4-4a00-8874-f8efb2081ca1",
   "metadata": {},
   "outputs": [],
   "source": [
    "Wind_read_file_drop.to_csv(\"./data_files/WI_H1_SWE_2017_final.csv\", index=False) # save your new csv file"
   ]
  },
  {
   "cell_type": "code",
   "execution_count": null,
   "id": "65e8cd4d-37e2-460b-9cdf-98bb11246872",
   "metadata": {},
   "outputs": [],
   "source": [
    "#reading your new CSV file for Wind data\n",
    "wdata_read = pd.read_csv(\"./data_files/WI_H1_SWE_2017_final.csv\", delimiter = ',', comment='#', \\\n",
    "                    parse_dates=[0],infer_datetime_format=True, date_parser=lambda col: pd.to_datetime(col, utc=True),na_values='-1.00000e+31')\n",
    "wdata_read = wdata_read.rename(columns={wdata_read.columns[0]:\"Epoch_time\", wdata_read.columns[1]:\"Speed\", wdata_read.columns[2]:\"Temp\", wdata_read.columns[3]:\"Density\", wdata_read.columns[4]:\"bx\", wdata_read.columns[5]:\"by\", wdata_read.columns[6]:\"bz\"})\n",
    "wdata_read"
   ]
  },
  {
   "cell_type": "code",
   "execution_count": null,
   "id": "7927f3d4-6f5c-41b3-bc10-7c79c6ebb59b",
   "metadata": {},
   "outputs": [],
   "source": [
    "#reading DSCOVR data\n",
    "ddata_read = pd.read_csv(\"./data_files/dsc_fc_summed_spectra_2017_v01.csv\", delimiter = ',', comment='#', \\\n",
    "                  parse_dates=[0], infer_datetime_format=True, na_values='-1.00000e+31')\n"
   ]
  },
  {
   "cell_type": "code",
   "execution_count": null,
   "id": "bbdf6782",
   "metadata": {},
   "outputs": [],
   "source": [
    "zero_mask = (((ddata_read.iloc[:,4:54]).values) == 0).all(axis=1)\n",
    "\n",
    "ddata_to_filter = ddata_read[~zero_mask]\n",
    "ddata_to_filter"
   ]
  },
  {
   "cell_type": "code",
   "execution_count": null,
   "id": "bfc0001a",
   "metadata": {},
   "outputs": [],
   "source": [
    "wdata_read = wdata_read.resample('160s', on='Epoch_time').median()\n",
    "\n",
    "wdata = wdata_read.interpolate(method=\"linear\")  #interpolating to fill in data gaps in Wind data\n",
    "wdata"
   ]
  },
  {
   "cell_type": "code",
   "execution_count": null,
   "id": "226d372d-4a65-4e4c-a617-1567d858a108",
   "metadata": {},
   "outputs": [],
   "source": [
    "ddata_read_drop=ddata_to_filter.dropna() #deleting nan values"
   ]
  },
  {
   "cell_type": "code",
   "execution_count": null,
   "id": "21a43508-d779-48c6-825e-c1b18144def6",
   "metadata": {},
   "outputs": [],
   "source": [
    "ddata_read_drop"
   ]
  },
  {
   "cell_type": "code",
   "execution_count": null,
   "id": "698422d6-6e54-4da1-bf31-92be36b87579",
   "metadata": {},
   "outputs": [],
   "source": [
    "ddata_read_drop = ddata_read_drop.rename(columns={ddata_read_drop.columns[0]:\"t\", ddata_read_drop.columns[1]:\"bx\", ddata_read_drop.columns[2]:\"by\",ddata_read_drop.columns[3]:\"bz\"})\n",
    "ddata_read_drop = ddata_read_drop.resample('160s', on='t').median()\n",
    "ddata_read_drop"
   ]
  },
  {
   "cell_type": "code",
   "execution_count": null,
   "id": "ada1a831-9bea-4b3d-ac06-5ea5b5c8a5ff",
   "metadata": {},
   "outputs": [],
   "source": [
    "ddata = ddata_read_drop.interpolate(method=\"linear\") #interpolation for DSCOVR data\n",
    "ddata"
   ]
  },
  {
   "cell_type": "code",
   "execution_count": null,
   "id": "b2542456",
   "metadata": {},
   "outputs": [],
   "source": [
    "wdata"
   ]
  },
  {
   "cell_type": "code",
   "execution_count": null,
   "id": "5f52a019-82ce-44c6-9762-67ba036f872a",
   "metadata": {},
   "outputs": [],
   "source": [
    "# Plot the two time series pre-warping. They look very similar already\n",
    "f = plt.figure()\n",
    "f.set_figwidth(15)\n",
    "f.set_figheight(4)\n",
    "\n",
    "plt.plot(wdata['bx'][0:36000])  #only selecting few months of data for now\n",
    "plt.title('Original Wind and DSCOVR time series')\n",
    "plt.xlabel('time')\n",
    "plt.ylabel('Bx')\n",
    "plt.plot(ddata['bx'][0:36000]-10)\n"
   ]
  },
  {
   "cell_type": "code",
   "execution_count": null,
   "id": "9a4cc956",
   "metadata": {
    "scrolled": true
   },
   "outputs": [],
   "source": [
    "#reading DSCOVR data\n",
    "ddata_read_science = pd.read_csv(\"./data_files/DSCOVR_H1_FC_2017_nvT_1minute.csv\", delimiter = ',',index_col=False, comment='#', \\\n",
    "                  parse_dates=[0], infer_datetime_format=True, na_values='-1.00000e+31')\n",
    "ddata_read_science\n"
   ]
  },
  {
   "cell_type": "code",
   "execution_count": null,
   "id": "5ffc9efa",
   "metadata": {
    "scrolled": true
   },
   "outputs": [],
   "source": [
    "ddata_read_science_drop=ddata_read_science.dropna() #deleting nan values\n",
    "ddata_read_science_drop"
   ]
  },
  {
   "cell_type": "code",
   "execution_count": null,
   "id": "c7b57b5d",
   "metadata": {},
   "outputs": [],
   "source": [
    "ddata_read_science_drop = ddata_read_science_drop.rename(columns={ddata_read_science_drop.columns[0]:\"epoch\", ddata_read_science_drop.columns[1]:\"wp\", ddata_read_science_drop.columns[2]:\"np\", ddata_read_science_drop.columns[3]:\"vp\"})\n",
    "ddata_read_science_drop"
   ]
  },
  {
   "cell_type": "code",
   "execution_count": null,
   "id": "30cacc99",
   "metadata": {},
   "outputs": [],
   "source": [
    "ddata_read_science_drop = ddata_read_science_drop.resample('160s', on='epoch').median()#.bfill()\n",
    "ddata_science = ddata_read_science_drop.interpolate(method=\"linear\") #interpolation for DSCOVR data\n",
    "ddata_science"
   ]
  },
  {
   "cell_type": "markdown",
   "id": "a33191b7-d8b1-4432-ac0c-4500d817a498",
   "metadata": {},
   "source": [
    "## first step: Dynamic Time Warping"
   ]
  },
  {
   "cell_type": "code",
   "execution_count": null,
   "id": "2cdca4ee-8779-4115-8f11-1236d4111325",
   "metadata": {},
   "outputs": [],
   "source": [
    "def DTW_function(wdata_input, ddata_input, start_index, end_index):\n",
    " \n",
    "    query1_ = wdata_input.bx.values[start_index:end_index]  #WIND\n",
    "    #query2 = adata.bx.values[0:3599]  #ACE\n",
    "    template_ = ddata_input.bx.values[start_index:end_index] #DSCOVR as reference\n",
    "\n",
    "\n",
    "    ## Find the best match with the canonical recursion formula\n",
    "    alignment_wd_ = dtw(query1_, template_, keep_internals=True, step_pattern=rabinerJuangStepPattern(6, \"c\"))\n",
    "    #alignment_ad = dtw(query2, template, keep_internals=True)\n",
    "\n",
    "    ## Display the warping curve, i.e. the alignment curve\n",
    "    #alignment_wd_plot=alignment_wd.plot(type=\"threeway\", xlab='Wind time base in minutes', ylab='DSCOVR time base in minutes', main='PLot title')\n",
    "    #alignment_ad.plot(type=\"threeway\")\n",
    "\n",
    "    ## Align and plot with the Rabiner-Juang type VI-c unsmoothed recursion...\n",
    "    # not that I have any idea what that is. It was the default in the tutorial\n",
    "\n",
    "    #dtw_map=dtw(query1, template, keep_internals=True, \n",
    "        #step_pattern=rabinerJuangStepPattern(6, \"c\")).plot(type=\"twoway\",xlab='nT', ylab='nT DSC',offset=-10) #blue color is the reference(DSCOVR in this case) \n",
    "\n",
    "    #dtw(query2, template, keep_internals=True, \n",
    "        #step_pattern=rabinerJuangStepPattern(6, \"c\")).plot(type=\"twoway\",offset=-10) \n",
    "\n",
    "    ## See the recursion relation, as formula and diagram\n",
    "    #print(rabinerJuangStepPattern(6,\"c\"))\n",
    "    #rabinerJuangStepPattern(6,\"c\").plot()\n",
    "    ind = warp(alignment_wd_,index_reference=False)  #indexing here #which is the indexing from the dtw part above\n",
    "    \n",
    "    return query1_, template_, alignment_wd_, ind"
   ]
  },
  {
   "cell_type": "code",
   "execution_count": null,
   "id": "5ad89e2a",
   "metadata": {},
   "outputs": [],
   "source": [
    "query1, template, alignment_wd, ind_Jan_Feb=DTW_function(wdata, ddata, 0, 36000)"
   ]
  },
  {
   "cell_type": "code",
   "execution_count": null,
   "id": "b4901e84-5414-49aa-b638-ed7694d7eabd",
   "metadata": {},
   "outputs": [],
   "source": [
    "# plot the original Bx time series data all on top of each other\n",
    "f = plt.figure()\n",
    "f.set_figwidth(15)\n",
    "f.set_figheight(4)\n",
    "plt.plot(template, label='DSCOVR Bx for Jan-Feb')\n",
    "plt.plot(query1, label='Wind Bx for for Jan-Feb')\n",
    "#plt.plot(query2)\n",
    "plt.ylabel('Bx[nT]')\n",
    "plt.legend()\n",
    "plt.title('Wind and DSCOVR Bx time series pre-warping')"
   ]
  },
  {
   "cell_type": "code",
   "execution_count": null,
   "id": "a833f30e-1e79-48ad-8283-6b651ea808ae",
   "metadata": {},
   "outputs": [],
   "source": [
    "#replot the previous, with time warped version\n",
    "f = plt.figure()\n",
    "f.set_figwidth(15)\n",
    "f.set_figheight(4)\n",
    "plt.plot(template, label='DSCOVR Bx for Jan-Feb') #DSCOVR\n",
    "plt.plot(query1[ind_Jan_Feb], label='Wind Bx for for Jan-Feb') #Wind time-warped\n",
    "plt.title('Time-warped Wind and DSCOVR Bx')\n",
    "plt.legend()\n",
    "#plt.plot(query2[ind2])\n",
    "#plt.xlabel('time')\n",
    "plt.ylabel('Bx[nT]')\n",
    "plt.show()"
   ]
  },
  {
   "cell_type": "markdown",
   "id": "a3127c74-2d1d-40ad-8ee6-412c37f6d72b",
   "metadata": {},
   "source": [
    "## second step: time warping"
   ]
  },
  {
   "cell_type": "code",
   "execution_count": null,
   "id": "fab22062",
   "metadata": {},
   "outputs": [],
   "source": [
    "def warp_function(wdata_input, ind):\n",
    "    \n",
    "    Wind_density_=wdata_input['Density']\n",
    "    Wind_Temp_=wdata_input['Temp']\n",
    "    Wind_speed_=wdata_input['Speed']\n",
    "\n",
    "    \n",
    "    warped_density_=Wind_density_[ind]  \n",
    "    warped_temp_=Wind_Temp_[ind]\n",
    "    warped_speed_=Wind_speed_[ind]\n",
    "    return warped_density_, warped_temp_, warped_speed_"
   ]
  },
  {
   "cell_type": "code",
   "execution_count": null,
   "id": "b1638c3e-6399-4fea-b31a-9d31df78b7c6",
   "metadata": {},
   "outputs": [],
   "source": [
    "warped_density_Jan_Feb, warped_temp_Jan_Feb, warped_speed_Jan_Feb=warp_function(wdata, ind_Jan_Feb)"
   ]
  },
  {
   "cell_type": "markdown",
   "id": "c571536c-b7bc-4140-8a4b-dc67e62d04f7",
   "metadata": {},
   "source": [
    "## Final step: Neural Network model"
   ]
  },
  {
   "cell_type": "code",
   "execution_count": null,
   "id": "adb7979c",
   "metadata": {},
   "outputs": [],
   "source": [
    "# importing the libraries\n",
    "from sklearn.preprocessing import StandardScaler\n",
    "import tensorflow as tf\n",
    "import tensorflow_probability as tfp\n",
    "print(tf.reduce_sum(tf.random.normal([1000, 1000])))\n",
    "from tensorflow import keras\n",
    "from keras.models import Sequential\n",
    "from keras.layers import Dense\n",
    "from sklearn.model_selection import train_test_split\n",
    "from keras.models import load_model"
   ]
  },
  {
   "cell_type": "code",
   "execution_count": null,
   "id": "f80f739d",
   "metadata": {},
   "outputs": [],
   "source": [
    "def input_prep_func(ddata_input, warped_temp, index_start, index_end):\n",
    "    X = (ddata_input.iloc[:,3:53]).values  #DSCOVR data columns 3:53 as the X input\n",
    "    Y = np.transpose([warped_temp]) #warped wind as the y input\n",
    "\n",
    "\n",
    "    DSCOVR_input_=X[index_start:(index_end),:]  #DSCOVR selecting a smaller chunk to work with, Jan-Feb\n",
    "    Wind_input_=Y[index_start:index_end]\n",
    "    return DSCOVR_input_, Wind_input_"
   ]
  },
  {
   "cell_type": "code",
   "execution_count": null,
   "id": "122298ae",
   "metadata": {},
   "outputs": [],
   "source": [
    "DSCOVR_input_Jan_Feb, Wind_input_Jan_Feb=input_prep_func(ddata, warped_temp_Jan_Feb, 0, 36000)"
   ]
  },
  {
   "cell_type": "code",
   "execution_count": null,
   "id": "053fd62f",
   "metadata": {},
   "outputs": [],
   "source": [
    "def standardization_func(DSCOVR_input,  Wind_input):\n",
    "\n",
    "    PredictorScaler=StandardScaler()\n",
    "    TargetVarScaler=StandardScaler()\n",
    "\n",
    "    # Storing the fit object for later reference\n",
    "    PredictorScalerFit_=PredictorScaler.fit(DSCOVR_input)\n",
    "    TargetVarScalerFit_=TargetVarScaler.fit(Wind_input)\n",
    "\n",
    "    # Generating the standardized values of DSCOVR_input and Wind_input\n",
    "    DSCOVR_input_final=PredictorScalerFit_.transform(DSCOVR_input)\n",
    "    Wind_input_final=TargetVarScalerFit_.transform(Wind_input)\n",
    "\n",
    "    # Split the data into training and testing set\n",
    "    \n",
    "    DSCOVR_input_train, DSCOVR_input_test, Wind_input_train, Wind_input_test = train_test_split(DSCOVR_input_final, Wind_input_final, test_size=0.3, random_state=42)\n",
    "\n",
    "    # Quick sanity check with the shapes of Training and testing datasets\n",
    "    print(DSCOVR_input_train.shape)\n",
    "    print(Wind_input_train.shape)\n",
    "    print(DSCOVR_input_test.shape)\n",
    "    print(Wind_input_test.shape)\n",
    "    \n",
    "    return PredictorScalerFit_, TargetVarScalerFit_, DSCOVR_input_final, Wind_input_final, DSCOVR_input_train, DSCOVR_input_test, Wind_input_train, Wind_input_test"
   ]
  },
  {
   "cell_type": "code",
   "execution_count": null,
   "id": "40a4ae87",
   "metadata": {},
   "outputs": [],
   "source": [
    "PredictorScalerFit, TargetVarScalerFit, DSCOVR_input_Jan_Feb_final, Wind_input_Jan_Feb_final, DSCOVR_input_train_Jan_Feb, DSCOVR_input_test_Jan_Feb, Wind_input_train_Jan_Feb, Wind_input_test_Jan_Feb=standardization_func(DSCOVR_input_Jan_Feb, Wind_input_Jan_Feb)"
   ]
  },
  {
   "cell_type": "code",
   "execution_count": null,
   "id": "3eef74e3-a86d-480e-918d-74bd55aa0518",
   "metadata": {},
   "outputs": [],
   "source": [
    "import tensorflow as tf\n",
    "import tensorflow_probability as tfp\n",
    "#from tf_agents.environments import tf_py_environment\n",
    "\n",
    "import numpy as np\n",
    "import tensorflow as tf\n",
    "from tensorflow import keras\n",
    "from tensorflow.keras import layers\n",
    "#import tensorflow_datasets as tfds\n",
    "import tensorflow_probability as tfp"
   ]
  },
  {
   "cell_type": "code",
   "execution_count": null,
   "id": "73d2a239-6640-4f79-9b9a-16abe3b8a1b5",
   "metadata": {},
   "outputs": [],
   "source": [
    "tfd = tfp.distributions\n",
    "\n",
    "# Specify the surrogate posterior over `keras.layers.Dense` `kernel` and `bias`.\n",
    "def posterior(kernel_size, bias_size=0, dtype=None):\n",
    "    n = kernel_size + bias_size\n",
    "    c = np.log(np.expm1(1.))\n",
    "    return tf.keras.Sequential([\n",
    "        tfp.layers.VariableLayer(2 * n, dtype=dtype),\n",
    "        tfp.layers.DistributionLambda(lambda t: tfd.Independent(\n",
    "            tfd.Normal(loc=t[..., :n],\n",
    "                       scale=1e-5 + tf.nn.softplus(c + t[..., n:])),\n",
    "            reinterpreted_batch_ndims=1)),\n",
    "    ])\n",
    "\n",
    "# Specify the prior over `keras.layers.Dense` `kernel` and `bias`.\n",
    "def prior_trainable(kernel_size, bias_size=0, dtype=None):\n",
    "    n = kernel_size + bias_size\n",
    "    return tf.keras.Sequential([\n",
    "        tfp.layers.VariableLayer(n, dtype=dtype),\n",
    "        tfp.layers.DistributionLambda(lambda t: tfd.Independent(\n",
    "            tfd.Normal(loc=t, scale=1),\n",
    "            reinterpreted_batch_ndims=1)),\n",
    "    ])"
   ]
  },
  {
   "cell_type": "markdown",
   "id": "baca8422-0532-4294-937b-20c5a8114076",
   "metadata": {},
   "source": [
    "import tensorflow as tf\n",
    "import tensorflow_probability as tfp\n",
    "#from tf_agents.environments import tf_py_environment\n",
    "\n",
    "import numpy as np\n",
    "import tensorflow as tf\n",
    "from tensorflow import keras\n",
    "from tensorflow.keras import layers\n",
    "#import tensorflow_datasets as tfds\n",
    "import tensorflow_probability as tfp\n",
    "\n",
    "def prior(kernel_size, bias_size, dtype=None):\n",
    "    n = kernel_size + bias_size\n",
    "    prior_model = keras.Sequential(\n",
    "        [\n",
    "            tfp.layers.DistributionLambda(\n",
    "                lambda t: tfp.distributions.MultivariateNormalDiag(\n",
    "                    loc=tf.zeros(n), scale_diag=0.1 * tf.ones(n)\n",
    "                )\n",
    "            )\n",
    "        ]\n",
    "    )\n",
    "    return prior_model\n",
    "\n",
    "\n",
    "# Define variational posterior weight distribution as multivariate Gaussian.\n",
    "# Note that the learnable parameters for this distribution are the means,\n",
    "# variances, and covariances.\n",
    "def posterior(kernel_size, bias_size, dtype=None):\n",
    "    n = kernel_size + bias_size\n",
    "    posterior_model = keras.Sequential(\n",
    "        [\n",
    "            tfp.layers.VariableLayer(\n",
    "                tfp.layers.MultivariateNormalTriL.params_size(n), dtype=dtype\n",
    "            ),\n",
    "            tfp.layers.MultivariateNormalTriL(n),\n",
    "        ]\n",
    "    )\n",
    "    return posterior_model"
   ]
  },
  {
   "cell_type": "markdown",
   "id": "5426d18b-bfd6-42dc-823f-f61c0b4735ab",
   "metadata": {},
   "source": [
    "# Alias for TensorFlow Probability layers and distributions\n",
    "tfd = tfp.distributions\n",
    "tfpl = tfp.layers\n",
    "\n",
    "def pareto_prior(kernel_size, bias_size, dtype=None):\n",
    "    n = kernel_size + bias_size\n",
    "    prior_model = keras.Sequential(\n",
    "        [\n",
    "            tfp.layers.DistributionLambda(\n",
    "                lambda t: tfp.distributions.MultivariateNormalDiag(\n",
    "                    loc=tf.zeros(n), scale_diag=tf.ones(n)\n",
    "                )\n",
    "            )\n",
    "        ]\n",
    "    )\n",
    "    return prior_model\n",
    "def pareto_posterior(kernel_size, bias_size, dtype=None):\n",
    "    n = kernel_size + bias_size\n",
    "    initial_loc = tf.keras.initializers.RandomNormal(mean=0.1, stddev=0.01)  # Slightly higher mean\n",
    "    initial_scale = tf.keras.initializers.RandomNormal(mean=0.1, stddev=0.01)  # Slightly higher mean\n",
    "\n",
    "    posterior_model = keras.Sequential(\n",
    "        [\n",
    "            tfpl.VariableLayer(\n",
    "                2 * n, dtype=dtype,\n",
    "                initializer=lambda shape, dtype: tf.concat(\n",
    "                    [\n",
    "                        initial_loc(shape=(n,), dtype=dtype),\n",
    "                        initial_scale(shape=(n,), dtype=dtype)\n",
    "                    ],\n",
    "                    axis=-1\n",
    "                )\n",
    "            ),\n",
    "            tfpl.DistributionLambda(\n",
    "                lambda t: tfd.Independent(\n",
    "                    tfd.Pareto(\n",
    "                        concentration=tf.nn.softplus(t[..., :n]) + 1.5,  # Ensure alpha > 1\n",
    "                        scale=tf.nn.softplus(t[..., n:]) + 1.0  # Ensure x_m > 0\n",
    "                    ),\n",
    "                    reinterpreted_batch_ndims=1\n",
    "                )\n",
    "            )\n",
    "        ]\n",
    "    )\n",
    "    return posterior_model\n"
   ]
  },
  {
   "cell_type": "code",
   "execution_count": null,
   "id": "6409c552-b1d7-4588-93d9-d344141e9854",
   "metadata": {},
   "outputs": [],
   "source": [
    "from tensorflow.keras.layers import LayerNormalization\n",
    "\n",
    "def create_bnn_model(train_size):\n",
    "    inputs = layers.Input(shape=(50,), dtype=tf.float32)  # Assuming input shape is (25199, 50)\n",
    "    #normalized_inputs = tf.keras.layers.BatchNormalization()(inputs)\n",
    "\n",
    "    hidden_units = [8, 8]  # Define your hidden units here\n",
    "\n",
    "    x=inputs\n",
    "    # Create hidden layers with weight uncertainty using the DenseVariational layer.\n",
    "    for units in hidden_units:\n",
    "        #normalized_inputs = tf.keras.layers.BatchNormalization()(normalized_inputs)\n",
    "        x = tfp.layers.DenseVariational(\n",
    "            units=units,\n",
    "            make_prior_fn=prior_trainable,\n",
    "            make_posterior_fn=posterior,\n",
    "            kl_weight=1 / train_size,\n",
    "            activation=tf.keras.activations.softplus   #smooth relu\n",
    "            #activation='relu' \n",
    "            #activation = tf.keras.activations.relu  \n",
    "            #activation = tf.keras.layers.LeakyReLU(alpha=0.1)  # LeakyReLU\n",
    "        )(x)\n",
    "    x=LayerNormalization()(x)\n",
    "    \n",
    "    distribution_params = layers.Dense(units=2)(x)\n",
    "    outputs = tfp.layers.IndependentNormal(1)(distribution_params)\n",
    "    \n",
    "    model = tf.keras.Model(inputs=inputs, outputs=outputs)\n",
    "    return model\n"
   ]
  },
  {
   "cell_type": "code",
   "execution_count": null,
   "id": "480332ee-cca6-4948-9519-ffbd4ef1903b",
   "metadata": {},
   "outputs": [],
   "source": [
    "num_epochs = 50\n",
    "train_size=int(DSCOVR_input_train_Jan_Feb.shape[0])\n",
    "input_shape = DSCOVR_input_train_Jan_Feb.shape[1:]\n",
    "\n",
    "#bnn_model_full = create_bnn_model(train_size)\n",
    "bnn_model_full_Jan_Feb= create_bnn_model(train_size)"
   ]
  },
  {
   "cell_type": "markdown",
   "id": "46ea65f8-1a9c-4b3f-aacd-2e0d42f3e96d",
   "metadata": {},
   "source": [
    "## negative loglikelihood loss"
   ]
  },
  {
   "cell_type": "code",
   "execution_count": null,
   "id": "ba2d78fd-f256-4cb5-8c16-69d77d058109",
   "metadata": {},
   "outputs": [],
   "source": [
    "import tensorflow as tf\n",
    "\n",
    "def simple_penalized_nll(targets, estimated_distribution, threshold=1, min_val=1, max_val=850):\n",
    "    # Basic NLL calculation\n",
    "    base_nll = -estimated_distribution.log_prob(targets)\n",
    "   \n",
    "    # Penalize if mean of predicted distribution is below threshold\n",
    "    mean_predictions = estimated_distribution.mean()\n",
    "    penalized_nll = tf.where(mean_predictions < threshold, base_nll ** 2, base_nll)\n",
    "\n",
    "    # Clamp final NLL to be within [min_val, max_val]\n",
    "    constrained_nll = tf.clip_by_value(penalized_nll, min_val, max_val)\n",
    "\n",
    "    # Return the mean NLL over all data points\n",
    "    return tf.reduce_mean(penalized_nll)"
   ]
  },
  {
   "cell_type": "code",
   "execution_count": null,
   "id": "87ba4c09-9d6f-4299-b9fa-60f8c476ec3c",
   "metadata": {},
   "outputs": [],
   "source": [
    "import tensorflow as tf\n",
    "\n",
    "def improved_penalized_nll(targets, estimated_distribution, threshold=1, min_val=1, max_val=850):\n",
    "    \"\"\"\n",
    "    Penalized Negative Log-Likelihood (NLL) Loss Function\n",
    "    Args:\n",
    "        targets: Ground truth values.\n",
    "        estimated_distribution: Predicted distribution (e.g., mean and variance).\n",
    "        threshold: Minimum acceptable mean prediction before applying penalties.\n",
    "        min_val: Minimum valid target value to avoid numerical instability.\n",
    "        max_val: Maximum valid target value to normalize penalties.\n",
    "   \n",
    "    Returns:\n",
    "        Penalized NLL loss.\n",
    "    \"\"\"\n",
    "    # Calculate the base negative log-likelihood\n",
    "    base_nll = -estimated_distribution.log_prob(targets)\n",
    "\n",
    "    # Extract the mean of the predicted distribution\n",
    "    mean_predictions = estimated_distribution.mean()\n",
    "\n",
    "    # Penalize underestimation (mean below targets)\n",
    "    underestimation_penalty = tf.where(\n",
    "        mean_predictions < targets,  # Penalize predictions lower than targets\n",
    "        tf.math.abs(mean_predictions - targets) ** 2,  # Quadratic penalty for underestimation\n",
    "        tf.zeros_like(base_nll)  # No penalty for accurate or overestimating predictions\n",
    "    )\n",
    "\n",
    "    # Normalize the penalty to avoid excessively large loss values\n",
    "    scaled_penalty = underestimation_penalty / (max_val - min_val)\n",
    "\n",
    "    # Combine the base NLL with the scaled penalty\n",
    "    total_loss = base_nll + scaled_penalty\n",
    "\n",
    "    # Return the mean loss over all data points\n",
    "    return tf.reduce_mean(total_loss)\n"
   ]
  },
  {
   "cell_type": "code",
   "execution_count": null,
   "id": "3e97e85c-c914-42f0-916f-89228bb2a8d5",
   "metadata": {},
   "outputs": [],
   "source": [
    "def negative_loglikelihood(targets, estimated_distribution):\n",
    "    return -estimated_distribution.log_prob(targets)"
   ]
  },
  {
   "cell_type": "code",
   "execution_count": null,
   "id": "19e54187-7720-4b46-9f06-5e25347a680e",
   "metadata": {},
   "outputs": [],
   "source": [
    "def run_experiment(bnn_model_full, DSCOVR_input_train_Jan_Feb, Wind_input_train_Jan_Feb):  \n",
    "    bnn_model_full.compile(\n",
    "            optimizer=keras.optimizers.Adam(),\n",
    "            loss='improved_penalized_nll'\n",
    "            #, metrics=\n",
    "            , metrics=['mae', 'mse']\n",
    "        )\n",
    "    \n",
    "    \n",
    "    # Train the model\n",
    "    print(\"Start training the model...\")\n",
    "    bnn_model_full.fit(DSCOVR_input_train_Jan_Feb, Wind_input_train_Jan_Feb, epochs=num_epochs, batch_size=20,  verbose=1)\n",
    "    print(\"Model training finished.\")\n",
    "    # Assuming you have loaded your test data into variables DSCOVR_input_test_Jan_Feb and Wind_input_test_Jan_Feb\n",
    "\n",
    "    #bnn_model_full.save('bnn_model_full')\n",
    "    \n",
    "    #bnn_model_full_trained = load_model('bnn_model_full')\n",
    "\n",
    "\n",
    "    #return bnn_model_full_trained\n",
    "\n",
    "# Register custom loss function\n",
    "tf.keras.utils.get_custom_objects()['simple_penalized_nll'] = simple_penalized_nll\n",
    "\n",
    "tf.keras.utils.get_custom_objects()['improved_penalized_nll'] = improved_penalized_nll\n",
    "\n",
    "# Register custom loss function\n",
    "tf.keras.utils.get_custom_objects()['negative_loglikelihood'] = negative_loglikelihood\n"
   ]
  },
  {
   "cell_type": "markdown",
   "id": "cd941eff-6af3-4015-89e0-4d3f34965770",
   "metadata": {},
   "source": [
    "## Training on Jan-Feb data"
   ]
  },
  {
   "cell_type": "code",
   "execution_count": null,
   "id": "5d0edb8a-2f79-4c26-be2c-2a40126173ee",
   "metadata": {},
   "outputs": [],
   "source": [
    "run_experiment(bnn_model_full_Jan_Feb, DSCOVR_input_train_Jan_Feb, Wind_input_train_Jan_Feb)\n",
    "\n",
    "#bnn_model_full_Jan_Feb=run_experiment(bnn_model_full, DSCOVR_input_train_Jan_Feb, Wind_input_train_Jan_Feb)"
   ]
  },
  {
   "cell_type": "markdown",
   "id": "1dc5e899",
   "metadata": {},
   "source": [
    "## Evaluation on March"
   ]
  },
  {
   "cell_type": "code",
   "execution_count": null,
   "id": "c3f4c70b",
   "metadata": {},
   "outputs": [],
   "source": [
    "def non_warped_values_func(wdata_input):\n",
    "    \n",
    "    Wind_density_=wdata_input['Density']\n",
    "    Wind_Temp_=wdata_input['Temp']\n",
    "    Wind_speed_=wdata_input['Speed']\n",
    "\n",
    "    return Wind_density_, Wind_Temp_, Wind_speed_"
   ]
  },
  {
   "cell_type": "code",
   "execution_count": null,
   "id": "c8953218",
   "metadata": {},
   "outputs": [],
   "source": [
    "Wind_density, Wind_Temp, Wind_speed=non_warped_values_func(wdata)\n",
    "\n",
    "DSCOVR_input_March, Wind_input_March=input_prep_func(ddata, Wind_Temp.values, 36000, 49000)\n",
    "query1_March, template_March, alignment_wd_March, ind_March=DTW_function(wdata, ddata, 36000, 49000)\n",
    "Wind_input_March_warped_=Wind_input_March[ind_March]"
   ]
  },
  {
   "cell_type": "code",
   "execution_count": null,
   "id": "f5bace94",
   "metadata": {},
   "outputs": [],
   "source": [
    "DSCOVR_input_March_final=PredictorScalerFit.transform(DSCOVR_input_March)"
   ]
  },
  {
   "cell_type": "code",
   "execution_count": null,
   "id": "573f9647-cb43-427b-837d-988d245a48d0",
   "metadata": {},
   "outputs": [],
   "source": [
    "prediction_distribution_March = bnn_model_full_Jan_Feb(DSCOVR_input_March_final)\n",
    "prediction_mean_March = prediction_distribution_March.mean().numpy().tolist()\n",
    "prediction_stdv_March = prediction_distribution_March.stddev().numpy()\n",
    "\n",
    "\n",
    "Predictions_March_ = TargetVarScalerFit.inverse_transform(prediction_mean_March)\n",
    "Predictions_March_[0:5]"
   ]
  },
  {
   "cell_type": "markdown",
   "id": "e5c3bd06-e692-45f6-a874-2b4ecfd45863",
   "metadata": {},
   "source": [
    "## Confidence Interval"
   ]
  },
  {
   "cell_type": "code",
   "execution_count": null,
   "id": "3580713f-2dff-4ed6-b789-d10ac424fec8",
   "metadata": {},
   "outputs": [],
   "source": [
    "prediction_stdv_March_=prediction_stdv_March*TargetVarScalerFit.scale_\n",
    "\n",
    "# The 95% CI is computed as mean ± (1.96 * stdv)\n",
    "upper_March = (Predictions_March_ + (1.96 * prediction_stdv_March_)).tolist()\n",
    "lower_March = (Predictions_March_ - (1.96 * prediction_stdv_March_)).tolist()\n",
    "prediction_stdv_March_ = prediction_stdv_March_.tolist()\n",
    "\n",
    "\n",
    "sample=10\n",
    "    \n",
    "for idx in range(sample):\n",
    "    print(\n",
    "        f\"Prediction mean: {round(Predictions_March_[idx][0], 2)}, \"\n",
    "        f\"stddev: {round(prediction_stdv_March_[idx][0], 2)}, \"\n",
    "        f\"95% CI: [{round(upper_March[idx][0], 2)} - {round(lower_March[idx][0], 2)}]\"\n",
    "        f\" - Actual: {Wind_input_March_warped_[idx]}\"\n",
    "    )\n"
   ]
  },
  {
   "cell_type": "markdown",
   "id": "200deb4f-dfe9-43dd-9a33-b4b29d6581fb",
   "metadata": {},
   "source": [
    "## Confidence Interval plot"
   ]
  },
  {
   "cell_type": "code",
   "execution_count": null,
   "id": "51e2793f-4959-4019-ab59-0bcb6f4454cf",
   "metadata": {},
   "outputs": [],
   "source": [
    "import matplotlib.pyplot as plt\n",
    "import numpy as np\n",
    "\n",
    "# Flatten the upper and lower bounds\n",
    "upper_March_flat = np.ravel(upper_March)\n",
    "lower_March_flat = np.ravel(lower_March)\n",
    "\n",
    "# Plotting predictions\n",
    "plt.plot(Predictions_March_, label='DSCOVR NN prediction')\n",
    "\n",
    "# Plotting confidence interval\n",
    "plt.fill_between(range(len(Predictions_March_)), upper_March_flat, lower_March_flat, alpha=0.2, label='95% CI')\n",
    "\n",
    "# Plotting actual values\n",
    "plt.plot(Wind_input_March_warped_, label='Wind GT')\n",
    "\n",
    "plt.title('ANN applied beyond training period (March 2017)')\n",
    "plt.ylabel('temperature(km/s)')\n",
    "plt.legend()\n",
    "#plt.savefig('CI_temperature_March_DSCOVR_NN_prediction_and_Wind_GT_2017_2.png')\n",
    "plt.show()\n"
   ]
  },
  {
   "cell_type": "code",
   "execution_count": null,
   "id": "3069303c",
   "metadata": {},
   "outputs": [],
   "source": [
    "mask_March=(Predictions_March_ >= 1) & (Predictions_March_<=120)\n",
    "Predictions_March=Predictions_March_[mask_March]\n",
    "Wind_input_March_warped=Wind_input_March_warped_[mask_March]"
   ]
  },
  {
   "cell_type": "code",
   "execution_count": null,
   "id": "9a41629d-6e5f-4a50-9d6a-2ed311766060",
   "metadata": {},
   "outputs": [],
   "source": [
    "plt.plot(Predictions_March, label='DSCOVR NN prediction')\n",
    "#plt.plot(Wind_input_March_warped, label='DSCOVR NN prediction')\n",
    "plt.plot(Wind_input_March_warped, label='Wind GT')\n",
    "plt.title('ANN applied beyond training period (March 2017)')\n",
    "#plt.savefig('temperature_March_DSCOVR_NN_prediction_and_Wind GT_2017.png')\n",
    "#plt.xlabel('')\n",
    "plt.ylabel('temperature(km/s)')\n",
    "plt.legend()"
   ]
  },
  {
   "cell_type": "code",
   "execution_count": null,
   "id": "def8d0fc",
   "metadata": {},
   "outputs": [],
   "source": [
    "plt.plot(Wind_input_March_warped, Predictions_March, marker='.', markersize=1, linestyle = ' ')\n",
    "plt.xlabel(\"Wind GT temperature(km/s)\")\n",
    "plt.ylabel(\"DSCOVR FC temperature NN prediction (km/s)\")\n",
    "plt.title('Evaluation beyond training period (March 2017)')\n",
    "#plt.xlim(np.amin(Wind_input_March_warped), np.amax(Wind_input_March_warped))\n",
    "#plt.ylim(np.amin(Wind_input_March_warped), np.amax(Wind_input_March_warped))\n",
    "plt.plot([np.amin(Wind_input_March_warped), np.amax(Wind_input_March_warped)],[np.amin(Wind_input_March_warped), np.amax(Wind_input_March_warped)], color='red', linewidth=4)\n",
    "#plt.savefig('temperature-March_prediction_2017.png')"
   ]
  },
  {
   "cell_type": "code",
   "execution_count": null,
   "id": "1dc1f67c-33da-43a4-92c8-dc4ba9428ec7",
   "metadata": {},
   "outputs": [],
   "source": [
    "perr_NN_March = 100.*(Wind_input_March_warped-Predictions_March)/Wind_input_March_warped\n",
    "tk_NN_March=np.where(Wind_input_March_warped > 0.1)\n",
    "arr_perr_NN_March = (perr_NN_March)[tk_NN_March]\n",
    "arr_regular_NN_March=(Wind_input_March_warped-Predictions_March)\n",
    "m_NN_March=np.mean((arr_regular_NN_March))\n",
    "sd_NN_March=np.std((arr_regular_NN_March))\n",
    "\n",
    "\n",
    "plt.hist(arr_regular_NN_March, bins=np.arange(200)-100, density = 'true')\n",
    "\n",
    "plt.axvline(m_NN_March, color='k', linestyle='dashed')\n",
    "plt.axvline(m_NN_March+sd_NN_March, color='y', linestyle='dashed')\n",
    "plt.axvline(m_NN_March-sd_NN_March, color='y', linestyle='dashed')\n",
    "\n",
    "plt.xlim(-15,15)\n",
    "#plt.yscale('log')\n",
    "plt.title('Evaluation beyond training period (March 2017)')\n",
    "plt.xlabel('wind_GT-NN predicted temperature for March(km/s)')\n",
    "plt.ylabel('frequency')\n",
    "#plt.savefig('Error-temperature-March_prediction_2017.png')\n",
    "\n",
    "print('Mean err %: ', np.mean(abs(arr_regular_NN_March)))\n",
    "print('Median err %: ', np.median(abs(arr_regular_NN_March)))\n",
    "#print('Most probable err %: ', np.mode(abs(arr_regular_NN_March)))\n",
    "\n",
    "print('stddev:',sd_NN_March)"
   ]
  },
  {
   "cell_type": "markdown",
   "id": "697ff0a3-c8bb-46a0-b756-3a32f119059b",
   "metadata": {},
   "source": [
    "## April"
   ]
  },
  {
   "cell_type": "code",
   "execution_count": null,
   "id": "9dd8806b-60db-430d-87d9-95c5d73682b9",
   "metadata": {},
   "outputs": [],
   "source": [
    "Wind_input_March_warped=Wind_input_March_warped.reshape(-1,1)\n",
    "Wind_input_March_warped_final=TargetVarScalerFit.transform(Wind_input_March_warped)\n",
    "\n",
    "mask_March_flat = mask_March.flatten()\n",
    "\n",
    "# Now use the flattened mask for indexing\n",
    "DSCOVR_input_March_final = DSCOVR_input_March_final[mask_March_flat]"
   ]
  },
  {
   "cell_type": "code",
   "execution_count": null,
   "id": "6676aba0-983d-477f-be6f-f5ebf9f4b17f",
   "metadata": {},
   "outputs": [],
   "source": [
    "DSCOVR_input_April, Wind_input_April=input_prep_func(ddata, Wind_Temp.values, 49000, 65000)\n",
    "query1_April, template_April, alignment_wd_April, ind_April=DTW_function(wdata, ddata, 49000, 65000)\n",
    "Wind_input_April_warped_=Wind_input_April[ind_April]"
   ]
  },
  {
   "cell_type": "code",
   "execution_count": null,
   "id": "11f21b34-f588-4876-8cf5-c1d9c00ea21e",
   "metadata": {},
   "outputs": [],
   "source": [
    "# Generating the standardized values of DSCOVR_input and Wind_input for April\n",
    "DSCOVR_input_April_final=PredictorScalerFit.transform(DSCOVR_input_April)\n",
    "#Wind_input_April_warped_final=TargetVarScalerFit.transform(Wind_input_April_warped)"
   ]
  },
  {
   "cell_type": "code",
   "execution_count": null,
   "id": "1c70ef32-bcf9-420c-8b30-a97d8cf73810",
   "metadata": {},
   "outputs": [],
   "source": [
    "prediction_distribution_April = bnn_model_full_Jan_Feb(DSCOVR_input_April_final)\n",
    "prediction_mean_April = prediction_distribution_April.mean().numpy().tolist()\n",
    "prediction_stdv_April = prediction_distribution_April.stddev().numpy()\n",
    "\n",
    "\n",
    "Predictions_April_ = TargetVarScalerFit.inverse_transform(prediction_mean_April)\n",
    "Predictions_April_"
   ]
  },
  {
   "cell_type": "code",
   "execution_count": null,
   "id": "d28ccfed-c7b2-4e98-a42a-cecf2ca2ca6b",
   "metadata": {},
   "outputs": [],
   "source": [
    "prediction_stdv_April_=prediction_stdv_April*TargetVarScalerFit.scale_\n",
    "\n",
    "# The 95% CI is computed as mean ± (1.96 * stdv)\n",
    "upper_April = (Predictions_April_ + (1.96 * prediction_stdv_April_)).tolist()\n",
    "lower_April = (Predictions_April_ - (1.96 * prediction_stdv_April_)).tolist()\n",
    "prediction_stdv_April_ = prediction_stdv_April_.tolist()\n",
    "\n",
    "\n",
    "sample=10\n",
    "    \n",
    "for idx in range(sample):\n",
    "    print(\n",
    "        f\"Prediction mean: {round(Predictions_April_[idx][0], 2)}, \"\n",
    "        f\"stddev: {round(prediction_stdv_April_[idx][0], 2)}, \"\n",
    "        f\"95% CI: [{round(upper_April[idx][0], 2)} - {round(lower_April[idx][0], 2)}]\"\n",
    "        f\" - Actual: {Wind_input_April_warped_[idx]}\"\n",
    "    )\n"
   ]
  },
  {
   "cell_type": "code",
   "execution_count": null,
   "id": "bc721b03-93f7-4153-8054-b8e84c3e7452",
   "metadata": {},
   "outputs": [],
   "source": [
    "import matplotlib.pyplot as plt\n",
    "import numpy as np\n",
    "\n",
    "# Flatten the upper and lower bounds\n",
    "upper_April_flat = np.ravel(upper_April)\n",
    "lower_April_flat = np.ravel(lower_April)\n",
    "\n",
    "\n",
    "\n",
    "\n",
    "# Plotting predictions\n",
    "plt.plot(Predictions_April_, label='DSCOVR NN prediction')\n",
    "\n",
    "# Plotting confidence interval\n",
    "plt.fill_between(range(len(Predictions_April_)), upper_April_flat, lower_April_flat, alpha=0.2, label='95% CI')\n",
    "\n",
    "# Plotting actual values\n",
    "plt.plot(Wind_input_April_warped_, label='Wind GT')\n",
    "\n",
    "plt.title('ANN applied beyond training period (April 2017)')\n",
    "plt.ylabel('temperature(km/s)')\n",
    "#plt.ylim(0,50)\n",
    "plt.legend()\n",
    "#plt.savefig('CI_temperature_April_DSCOVR_NN_prediction_and_Wind_GT_2017.png')\n",
    "plt.show()\n"
   ]
  },
  {
   "cell_type": "code",
   "execution_count": null,
   "id": "82ec21ba-fdc8-4c7e-8fad-e91bb15e797b",
   "metadata": {},
   "outputs": [],
   "source": [
    "mask_April=(Predictions_April_ >= 1) & (Predictions_April_<=120)\n",
    "Predictions_April=Predictions_April_[mask_April]\n",
    "Wind_input_April_warped=Wind_input_April_warped_[mask_April]"
   ]
  },
  {
   "cell_type": "code",
   "execution_count": null,
   "id": "85d1e58b-952f-4ab9-90d0-f93d1a23398f",
   "metadata": {},
   "outputs": [],
   "source": [
    "plt.plot(Predictions_April, label='DSCOVR NN prediction')\n",
    "#plt.plot(Wind_input_April_warped, label='DSCOVR NN prediction')\n",
    "plt.plot(Wind_input_April_warped, label='Wind GT')\n",
    "plt.title('ANN applied beyond training period (April 2017)')\n",
    "#plt.savefig('temperature_April_DSCOVR_NN_prediction_and_Wind GT_2017.png')\n",
    "#plt.xlabel('')\n",
    "plt.ylabel('temperature(km/s)')\n",
    "plt.legend()"
   ]
  },
  {
   "cell_type": "code",
   "execution_count": null,
   "id": "86f51376-90d9-4e62-a7f0-c96de56ab784",
   "metadata": {},
   "outputs": [],
   "source": [
    "plt.plot(Wind_input_April_warped, Predictions_April, marker='.', markersize=1, linestyle = ' ')\n",
    "plt.xlabel(\"Wind GT temperature(km/s)\")\n",
    "plt.ylabel(\"DSCOVR FC temperature NN prediction (km/s)\")\n",
    "plt.title('Evaluation beyond training period (April 2017)')\n",
    "#plt.xlim(np.amin(Wind_input_March_warped), np.amax(Wind_input_March_warped))\n",
    "#plt.ylim(np.amin(Wind_input_March_warped), np.amax(Wind_input_March_warped))\n",
    "plt.plot([np.amin(Wind_input_April_warped), np.amax(Wind_input_April_warped)],[np.amin(Wind_input_April_warped), np.amax(Wind_input_April_warped)], color='red', linewidth=4)\n",
    "#plt.savefig('temperature-March_prediction_2017.png')"
   ]
  },
  {
   "cell_type": "code",
   "execution_count": null,
   "id": "3c242fff-3609-4e62-9da8-96a598810b99",
   "metadata": {},
   "outputs": [],
   "source": [
    "perr_NN_April = 100.*(Wind_input_April_warped-Predictions_April)/Wind_input_April_warped\n",
    "tk_NN_April=np.where(Wind_input_April_warped > 0.1)\n",
    "arr_perr_NN_April = (perr_NN_April)[tk_NN_April]\n",
    "arr_regular_NN_April=(Wind_input_April_warped-Predictions_April)\n",
    "m_NN_April=np.mean((arr_regular_NN_April))\n",
    "sd_NN_April=np.std((arr_regular_NN_April))\n",
    "\n",
    "\n",
    "plt.hist(arr_regular_NN_April, bins=np.arange(200)-100, density = 'true')\n",
    "\n",
    "plt.axvline(m_NN_April, color='k', linestyle='dashed')\n",
    "plt.axvline(m_NN_April+sd_NN_April, color='y', linestyle='dashed')\n",
    "plt.axvline(m_NN_April-sd_NN_April, color='y', linestyle='dashed')\n",
    "\n",
    "plt.xlim(-25,25)\n",
    "#plt.yscale('log')\n",
    "plt.title('Evaluation beyond training period (April 2017)')\n",
    "plt.xlabel('wind_GT-NN predicted temperature for April(km/s)')\n",
    "plt.ylabel('frequency')\n",
    "#plt.savefig('Error-temperature-April_prediction_2017.png')\n",
    "\n",
    "print('Mean err %: ', np.mean(abs(arr_regular_NN_April)))\n",
    "print('Median err %: ', np.median(abs(arr_regular_NN_April)))\n",
    "#print('Most probable err %: ', np.mode(abs(arr_regular_NN_March)))\n",
    "\n",
    "print('stddev:',sd_NN_April)"
   ]
  },
  {
   "cell_type": "markdown",
   "id": "69bb587a-e037-491c-935e-af483a780a45",
   "metadata": {},
   "source": [
    "## May"
   ]
  },
  {
   "cell_type": "code",
   "execution_count": null,
   "id": "38c03b24-19b8-4cf4-b4f9-f4f7de5df17b",
   "metadata": {},
   "outputs": [],
   "source": [
    "DSCOVR_input_May, Wind_input_May=input_prep_func(ddata, Wind_Temp.values, 65000, 81000)\n",
    "query1_May, template_May, alignment_wd_May, ind_May=DTW_function(wdata, ddata, 65000, 81000)\n",
    "Wind_input_May_warped_=Wind_input_May[ind_May]\n",
    "\n",
    "# Generating the standardized values of DSCOVR_input and Wind_input for May\n",
    "DSCOVR_input_May_final=PredictorScalerFit.transform(DSCOVR_input_May)\n",
    "#Wind_input_May_warped_final=TargetVarScalerFit.transform(Wind_input_May_warped)\n",
    "\n",
    "\n",
    "prediction_distribution_May = bnn_model_full_Jan_Feb(DSCOVR_input_May_final)\n",
    "prediction_mean_May = prediction_distribution_May.mean().numpy().tolist()\n",
    "prediction_stdv_May = prediction_distribution_May.stddev().numpy()\n",
    "\n",
    "\n",
    "Predictions_May_ = TargetVarScalerFit.inverse_transform(prediction_mean_May)\n",
    "#Wind_input_March_warped_2=Wind_input_March_warped.reshape(-1,1)\n",
    "#Wind_input_test_orig_March = TargetVarScalerFit.inverse_transform(Wind_input_March_warped_2)\n",
    "#Test_Data_March = PredictorScalerFit.inverse_transform(DSCOVR_input_March_final)\n",
    "\n",
    "\n",
    "mask_May=((Predictions_May_ >= 1)&(Predictions_May_ <= 120))\n",
    "Predictions_May=Predictions_May_[mask_May]\n",
    "#Wind_input_March_warped_2=Wind_input_March_warped.reshape(-1,1)\n",
    "Wind_input_May_warped=Wind_input_May_warped_[mask_May]"
   ]
  },
  {
   "cell_type": "code",
   "execution_count": null,
   "id": "a82bbfba-971c-4143-b6d7-8cafec888633",
   "metadata": {},
   "outputs": [],
   "source": [
    "prediction_stdv_May_=prediction_stdv_May*TargetVarScalerFit.scale_\n",
    "\n",
    "# The 95% CI is computed as mean ± (1.96 * stdv)\n",
    "upper_May = (Predictions_May_ + (1.96 * prediction_stdv_May_)).tolist()\n",
    "lower_May = (Predictions_May_ - (1.96 * prediction_stdv_May_)).tolist()\n",
    "prediction_stdv_May_ = prediction_stdv_May_.tolist()\n",
    "\n",
    "\n",
    "sample=10\n",
    "    \n",
    "for idx in range(sample):\n",
    "    print(\n",
    "        f\"Prediction mean: {round(Predictions_May_[idx][0], 2)}, \"\n",
    "        f\"stddev: {round(prediction_stdv_May_[idx][0], 2)}, \"\n",
    "        f\"95% CI: [{round(upper_May[idx][0], 2)} - {round(lower_May[idx][0], 2)}]\"\n",
    "        f\" - Actual: {Wind_input_May_warped_[idx]}\"\n",
    "    )\n",
    "\n",
    "\n"
   ]
  },
  {
   "cell_type": "code",
   "execution_count": null,
   "id": "e6f2decc-6711-4a36-a143-000401421a88",
   "metadata": {},
   "outputs": [],
   "source": [
    "import matplotlib.pyplot as plt\n",
    "import numpy as np\n",
    "\n",
    "# Flatten the upper and lower bounds\n",
    "upper_May_flat = np.ravel(upper_May)\n",
    "lower_May_flat = np.ravel(lower_May)\n",
    "\n",
    "# Plotting predictions\n",
    "plt.plot(Predictions_May_, label='DSCOVR NN prediction')\n",
    "\n",
    "# Plotting confidence interval\n",
    "plt.fill_between(range(len(Predictions_May_)), upper_May_flat, lower_May_flat, alpha=0.2, label='95% CI')\n",
    "\n",
    "# Plotting actual values\n",
    "plt.plot(Wind_input_May_warped_, label='Wind GT')\n",
    "\n",
    "plt.title('ANN applied beyond training period (May 2017)')\n",
    "plt.ylabel('temperature(km/s)')\n",
    "#plt.ylim(0,50)\n",
    "plt.legend()\n",
    "#plt.savefig('CI_temperature_May_DSCOVR_NN_prediction_and_Wind_GT_2017.png')\n",
    "plt.show()\n"
   ]
  },
  {
   "cell_type": "code",
   "execution_count": null,
   "id": "db121f67",
   "metadata": {},
   "outputs": [],
   "source": [
    "mask_May=(Predictions_May_ >= 1) & (Predictions_May_<=120)\n",
    "Predictions_May=Predictions_May_[mask_May]\n",
    "Wind_input_May_warped=Wind_input_May_warped_[mask_May]"
   ]
  },
  {
   "cell_type": "code",
   "execution_count": null,
   "id": "650b7c52",
   "metadata": {},
   "outputs": [],
   "source": [
    "plt.plot(Predictions_May, label='DSCOVR NN prediction')\n",
    "#plt.plot(Wind_input_May_warped, label='DSCOVR NN prediction')\n",
    "plt.plot(Wind_input_May_warped, label='Wind GT')\n",
    "plt.title('ANN applied beyond training period (May 2017)')\n",
    "#plt.savefig('temperature_May_DSCOVR_NN_prediction_and_Wind GT_2017.png')\n",
    "#plt.xlabel('')\n",
    "plt.ylabel('temperature(km/s)')\n",
    "plt.legend()"
   ]
  },
  {
   "cell_type": "code",
   "execution_count": null,
   "id": "f2fbaed9",
   "metadata": {},
   "outputs": [],
   "source": [
    "plt.plot(Wind_input_May_warped, Predictions_May, marker='.', markersize=1, linestyle = ' ')\n",
    "plt.xlabel(\"Wind GT temperature(km/s)\")\n",
    "plt.ylabel(\"DSCOVR FC temperature NN prediction (km/s)\")\n",
    "plt.title('Evaluation beyond training period (May 2017)')\n",
    "#plt.xlim(np.amin(Wind_input_March_warped), np.amax(Wind_input_March_warped))\n",
    "#plt.ylim(np.amin(Wind_input_March_warped), np.amax(Wind_input_March_warped))\n",
    "plt.plot([np.amin(Wind_input_May_warped), np.amax(Wind_input_May_warped)],[np.amin(Wind_input_May_warped), np.amax(Wind_input_May_warped)], color='red', linewidth=4)\n",
    "#plt.savefig('temperature-May_prediction_2017.png')"
   ]
  },
  {
   "cell_type": "code",
   "execution_count": null,
   "id": "c452e919-5f36-4621-8c5e-388c3755fa7f",
   "metadata": {},
   "outputs": [],
   "source": [
    "perr_NN_May = 100.*(Wind_input_May_warped-Predictions_May)/Wind_input_May_warped\n",
    "tk_NN_May=np.where(Wind_input_May_warped > 0.1)\n",
    "arr_perr_NN_May = (perr_NN_May)[tk_NN_May]\n",
    "arr_regular_NN_May=(Wind_input_May_warped-Predictions_May)\n",
    "m_NN_May=np.mean((arr_regular_NN_May))\n",
    "sd_NN_May=np.std((arr_regular_NN_May))\n",
    "\n",
    "\n",
    "plt.hist(arr_regular_NN_May, bins=np.arange(200)-100, density = 'true')\n",
    "\n",
    "plt.axvline(m_NN_May, color='k', linestyle='dashed')\n",
    "plt.axvline(m_NN_May+sd_NN_May, color='y', linestyle='dashed')\n",
    "plt.axvline(m_NN_May-sd_NN_May, color='y', linestyle='dashed')\n",
    "\n",
    "plt.xlim(-15,15)\n",
    "#plt.yscale('log')\n",
    "plt.title('Evaluation beyond training period (May 2017)')\n",
    "plt.xlabel('wind_GT-NN predicted temperature for May(km/s)')\n",
    "plt.ylabel('frequency')\n",
    "#plt.savefig('Error-temperature-May_prediction_2017.png')\n",
    "\n",
    "print('Mean err %: ', np.mean(abs(arr_regular_NN_May)))\n",
    "print('Median err %: ', np.median(abs(arr_regular_NN_May)))\n",
    "#print('Most probable err %: ', np.mode(abs(arr_regular_NN_March)))\n",
    "\n",
    "print('stddev:',sd_NN_May)"
   ]
  },
  {
   "cell_type": "markdown",
   "id": "05675eae-1a9c-466e-a767-4b5eccc42aa0",
   "metadata": {},
   "source": [
    "# June"
   ]
  },
  {
   "cell_type": "code",
   "execution_count": null,
   "id": "f0a8eab1-3642-43ce-a1c8-011f2e4509ff",
   "metadata": {},
   "outputs": [],
   "source": [
    "DSCOVR_input_June, Wind_input_June=input_prep_func(ddata, Wind_Temp.values, 81000, 98000)\n",
    "query1_June, template_June, alignment_wd_June, ind_June=DTW_function(wdata, ddata, 81000, 98000)\n",
    "Wind_input_June_warped_=Wind_input_June[ind_June]\n",
    "\n",
    "# Generating the standardized values of DSCOVR_input and Wind_input for June\n",
    "DSCOVR_input_June_final=PredictorScalerFit.transform(DSCOVR_input_June)\n",
    "#Wind_input_June_warped_final=TargetVarScalerFit.transform(Wind_input_June_warped)\n",
    "\n",
    "\n",
    "prediction_distribution_June = bnn_model_full_Jan_Feb(DSCOVR_input_June_final)\n",
    "prediction_mean_June = prediction_distribution_June.mean().numpy().tolist()\n",
    "prediction_stdv_June = prediction_distribution_June.stddev().numpy()\n",
    "\n",
    "\n",
    "Predictions_June_ = TargetVarScalerFit.inverse_transform(prediction_mean_June)\n",
    "#Wind_input_March_warped_2=Wind_input_March_warped.reshape(-1,1)\n",
    "#Wind_input_test_orig_March = TargetVarScalerFit.inverse_transform(Wind_input_March_warped_2)\n",
    "#Test_Data_March = PredictorScalerFit.inverse_transform(DSCOVR_input_March_final)\n",
    "\n",
    "\n",
    "mask_June=((Predictions_June_ >= 1)&(Predictions_June_ <= 120))\n",
    "Predictions_June=Predictions_June_[mask_June]\n",
    "#Wind_input_March_warped_2=Wind_input_March_warped.reshape(-1,1)\n",
    "Wind_input_June_warped=Wind_input_June_warped_[mask_June]"
   ]
  },
  {
   "cell_type": "code",
   "execution_count": null,
   "id": "fccd8063-09b7-441b-a05d-9ce6043b5036",
   "metadata": {},
   "outputs": [],
   "source": [
    "prediction_stdv_June_=prediction_stdv_June*TargetVarScalerFit.scale_\n",
    "\n",
    "# The 95% CI is computed as mean ± (1.96 * stdv)\n",
    "upper_June = (Predictions_June_ + (1.96 * prediction_stdv_June_)).tolist()\n",
    "lower_June = (Predictions_June_ - (1.96 * prediction_stdv_June_)).tolist()\n",
    "prediction_stdv_June_ = prediction_stdv_June_.tolist()\n",
    "\n",
    "\n",
    "sample=10\n",
    "    \n",
    "for idx in range(sample):\n",
    "    print(\n",
    "        f\"Prediction mean: {round(Predictions_June_[idx][0], 2)}, \"\n",
    "        f\"stddev: {round(prediction_stdv_June_[idx][0], 2)}, \"\n",
    "        f\"95% CI: [{round(upper_June[idx][0], 2)} - {round(lower_June[idx][0], 2)}]\"\n",
    "        f\" - Actual: {Wind_input_June_warped_[idx]}\"\n",
    "    )\n",
    "\n",
    "\n"
   ]
  },
  {
   "cell_type": "code",
   "execution_count": null,
   "id": "f5e986bb-0fca-4e29-b31d-3109cbad424c",
   "metadata": {},
   "outputs": [],
   "source": [
    "import matplotlib.pyplot as plt\n",
    "import numpy as np\n",
    "\n",
    "# Flatten the upper and lower bounds\n",
    "upper_June_flat = np.ravel(upper_June)\n",
    "lower_June_flat = np.ravel(lower_June)\n",
    "\n",
    "# Plotting predictions\n",
    "plt.plot(Predictions_June_, label='DSCOVR NN prediction')\n",
    "\n",
    "# Plotting confidence interval\n",
    "plt.fill_between(range(len(Predictions_June_)), upper_June_flat, lower_June_flat, alpha=0.2, label='95% CI')\n",
    "\n",
    "# Plotting actual values\n",
    "plt.plot(Wind_input_June_warped_, label='Wind GT')\n",
    "\n",
    "plt.title('ANN applied beyond training period (June 2017)')\n",
    "plt.ylabel('temperature(km/s)')\n",
    "#plt.ylim(0,50)\n",
    "plt.legend()\n",
    "#plt.savefig('CI_temperature_June_DSCOVR_NN_prediction_and_Wind_GT_2017.png')\n",
    "plt.show()\n"
   ]
  },
  {
   "cell_type": "code",
   "execution_count": null,
   "id": "4a9a12d2-ed6d-4358-9cab-9f3f1772d0fb",
   "metadata": {},
   "outputs": [],
   "source": [
    "mask_June=(Predictions_June_ >= 1) & (Predictions_June_<=120)\n",
    "Predictions_June=Predictions_June_[mask_June]\n",
    "Wind_input_June_warped=Wind_input_June_warped_[mask_June]"
   ]
  },
  {
   "cell_type": "code",
   "execution_count": null,
   "id": "ef1057e3-e015-4f2a-ba09-8d4814cb351b",
   "metadata": {},
   "outputs": [],
   "source": [
    "plt.plot(Predictions_June, label='DSCOVR NN prediction')\n",
    "#plt.plot(Wind_input_June_warped, label='DSCOVR NN prediction')\n",
    "plt.plot(Wind_input_June_warped, label='Wind GT')\n",
    "plt.title('ANN applied beyond training period (June 2017)')\n",
    "#plt.savefig('temperature_June_DSCOVR_NN_prediction_and_Wind GT_2017.png')\n",
    "#plt.xlabel('')\n",
    "plt.ylabel('temperature(km/s)')\n",
    "plt.legend()"
   ]
  },
  {
   "cell_type": "code",
   "execution_count": null,
   "id": "9060c033-585d-45ed-8973-90b29f424ceb",
   "metadata": {},
   "outputs": [],
   "source": [
    "plt.plot(Wind_input_June_warped, Predictions_June, marker='.', markersize=1, linestyle = ' ')\n",
    "plt.xlabel(\"Wind GT temperature(km/s)\")\n",
    "plt.ylabel(\"DSCOVR FC temperature NN prediction (km/s)\")\n",
    "plt.title('Evaluation beyond training period (June 2017)')\n",
    "#plt.xlim(np.amin(Wind_input_March_warped), np.amax(Wind_input_March_warped))\n",
    "#plt.ylim(np.amin(Wind_input_March_warped), np.amax(Wind_input_March_warped))\n",
    "plt.plot([np.amin(Wind_input_June_warped), np.amax(Wind_input_June_warped)],[np.amin(Wind_input_June_warped), np.amax(Wind_input_June_warped)], color='red', linewidth=4)\n",
    "#plt.savefig('temperature-June_prediction_2017.png')"
   ]
  },
  {
   "cell_type": "code",
   "execution_count": null,
   "id": "1a1e0e30-7414-4381-80ed-2df50f63db43",
   "metadata": {},
   "outputs": [],
   "source": [
    "perr_NN_June = 100.*(Wind_input_June_warped-Predictions_June)/Wind_input_June_warped\n",
    "tk_NN_June=np.where(Wind_input_June_warped > 0.1)\n",
    "arr_perr_NN_June = (perr_NN_June)[tk_NN_June]\n",
    "arr_regular_NN_June=(Wind_input_June_warped-Predictions_June)\n",
    "m_NN_June=np.mean((arr_regular_NN_June))\n",
    "sd_NN_June=np.std((arr_regular_NN_June))\n",
    "\n",
    "\n",
    "plt.hist(arr_regular_NN_June, bins=np.arange(200)-100, density = 'true')\n",
    "\n",
    "plt.axvline(m_NN_June, color='k', linestyle='dashed')\n",
    "plt.axvline(m_NN_June+sd_NN_June, color='y', linestyle='dashed')\n",
    "plt.axvline(m_NN_June-sd_NN_June, color='y', linestyle='dashed')\n",
    "\n",
    "plt.xlim(-15,15)\n",
    "#plt.yscale('log')\n",
    "plt.title('Evaluation beyond training period (June 2017)')\n",
    "plt.xlabel('wind_GT-NN predicted temperature for June(km/s)')\n",
    "plt.ylabel('frequency')\n",
    "#plt.savefig('Error-temperature-June_prediction_2017.png')\n",
    "\n",
    "print('Mean err %: ', np.mean(abs(arr_regular_NN_June)))\n",
    "print('Median err %: ', np.median(abs(arr_regular_NN_June)))\n",
    "#print('Most probable err %: ', np.mode(abs(arr_regular_NN_March)))\n",
    "\n",
    "print('stddev:',sd_NN_June)"
   ]
  },
  {
   "cell_type": "markdown",
   "id": "b72fab23-6a5c-4bb1-be90-9852a7d0b0a5",
   "metadata": {},
   "source": [
    "# July"
   ]
  },
  {
   "cell_type": "code",
   "execution_count": null,
   "id": "04872ace-ea7d-4c0e-b18e-1d56a2ad1eab",
   "metadata": {},
   "outputs": [],
   "source": [
    "DSCOVR_input_July, Wind_input_July=input_prep_func(ddata, Wind_Temp.values, 98000, 114000)\n",
    "query1_July, template_July, alignment_wd_July, ind_July=DTW_function(wdata, ddata, 98000, 114000)\n",
    "Wind_input_July_warped_=Wind_input_July[ind_July]\n",
    "\n",
    "# Generating the standardized values of DSCOVR_input and Wind_input for July\n",
    "DSCOVR_input_July_final=PredictorScalerFit.transform(DSCOVR_input_July)\n",
    "#Wind_input_July_warped_final=TargetVarScalerFit.transform(Wind_input_July_warped)\n",
    "\n",
    "\n",
    "prediction_distribution_July = bnn_model_full_Jan_Feb(DSCOVR_input_July_final)\n",
    "prediction_mean_July = prediction_distribution_July.mean().numpy().tolist()\n",
    "prediction_stdv_July = prediction_distribution_July.stddev().numpy()\n",
    "\n",
    "\n",
    "Predictions_July_ = TargetVarScalerFit.inverse_transform(prediction_mean_July)\n",
    "#Wind_input_March_warped_2=Wind_input_March_warped.reshape(-1,1)\n",
    "#Wind_input_test_orig_March = TargetVarScalerFit.inverse_transform(Wind_input_March_warped_2)\n",
    "#Test_Data_March = PredictorScalerFit.inverse_transform(DSCOVR_input_March_final)\n",
    "\n",
    "\n",
    "mask_July=((Predictions_July_ >= 1)&(Predictions_July_ <= 120))\n",
    "Predictions_July=Predictions_July_[mask_July]\n",
    "#Wind_input_March_warped_2=Wind_input_March_warped.reshape(-1,1)\n",
    "Wind_input_July_warped=Wind_input_July_warped_[mask_July]"
   ]
  },
  {
   "cell_type": "code",
   "execution_count": null,
   "id": "a5ba4b32-37e5-44bc-a7f4-d0a7fb815c1e",
   "metadata": {},
   "outputs": [],
   "source": [
    "prediction_stdv_July_=prediction_stdv_July*TargetVarScalerFit.scale_\n",
    "\n",
    "# The 95% CI is computed as mean ± (1.96 * stdv)\n",
    "upper_July = (Predictions_July_ + (1.96 * prediction_stdv_July_)).tolist()\n",
    "lower_July = (Predictions_July_ - (1.96 * prediction_stdv_July_)).tolist()\n",
    "prediction_stdv_July_ = prediction_stdv_July_.tolist()\n",
    "\n",
    "\n",
    "sample=10\n",
    "    \n",
    "for idx in range(sample):\n",
    "    print(\n",
    "        f\"Prediction mean: {round(Predictions_July_[idx][0], 2)}, \"\n",
    "        f\"stddev: {round(prediction_stdv_July_[idx][0], 2)}, \"\n",
    "        f\"95% CI: [{round(upper_July[idx][0], 2)} - {round(lower_July[idx][0], 2)}]\"\n",
    "        f\" - Actual: {Wind_input_July_warped_[idx]}\"\n",
    "    )\n",
    "\n",
    "\n"
   ]
  },
  {
   "cell_type": "code",
   "execution_count": null,
   "id": "b86d034e-0c38-4b62-b21a-0d337046740a",
   "metadata": {},
   "outputs": [],
   "source": [
    "import matplotlib.pyplot as plt\n",
    "import numpy as np\n",
    "\n",
    "# Flatten the upper and lower bounds\n",
    "upper_July_flat = np.ravel(upper_July)\n",
    "lower_July_flat = np.ravel(lower_July)\n",
    "\n",
    "# Plotting predictions\n",
    "plt.plot(Predictions_July_, label='DSCOVR NN prediction')\n",
    "\n",
    "# Plotting confidence interval\n",
    "plt.fill_between(range(len(Predictions_July_)), upper_July_flat, lower_July_flat, alpha=0.2, label='95% CI')\n",
    "\n",
    "# Plotting actual values\n",
    "plt.plot(Wind_input_July_warped_, label='Wind GT')\n",
    "\n",
    "plt.title('ANN applied beyond training period (July 2017)')\n",
    "plt.ylabel('temperature(km/s)')\n",
    "#plt.ylim(0,50)\n",
    "plt.legend()\n",
    "#plt.savefig('CI_temperature_July_DSCOVR_NN_prediction_and_Wind_GT_2017.png')\n",
    "plt.show()\n"
   ]
  },
  {
   "cell_type": "code",
   "execution_count": null,
   "id": "75381374-b0fb-4831-ab02-af6c8ef4e486",
   "metadata": {},
   "outputs": [],
   "source": [
    "mask_July=(Predictions_July_ >= 1) & (Predictions_July_<=120)\n",
    "Predictions_July=Predictions_July_[mask_July]\n",
    "Wind_input_July_warped=Wind_input_July_warped_[mask_July]"
   ]
  },
  {
   "cell_type": "code",
   "execution_count": null,
   "id": "b2b88f8c-9313-455e-8542-b6c6501d018d",
   "metadata": {},
   "outputs": [],
   "source": [
    "plt.plot(Predictions_July, label='DSCOVR NN prediction')\n",
    "#plt.plot(Wind_input_July_warped, label='DSCOVR NN prediction')\n",
    "plt.plot(Wind_input_July_warped, label='Wind GT')\n",
    "plt.title('ANN applied beyond training period (July 2017)')\n",
    "#plt.savefig('temperature_July_DSCOVR_NN_prediction_and_Wind GT_2017.png')\n",
    "#plt.xlabel('')\n",
    "plt.ylabel('temperature(km/s)')\n",
    "plt.legend()"
   ]
  },
  {
   "cell_type": "code",
   "execution_count": null,
   "id": "25022959-543c-4a9c-8aed-2445485c1440",
   "metadata": {},
   "outputs": [],
   "source": [
    "plt.plot(Wind_input_July_warped, Predictions_July, marker='.', markersize=1, linestyle = ' ')\n",
    "plt.xlabel(\"Wind GT temperature(km/s)\")\n",
    "plt.ylabel(\"DSCOVR FC temperature NN prediction (km/s)\")\n",
    "plt.title('Evaluation beyond training period (July 2017)')\n",
    "#plt.xlim(np.amin(Wind_input_March_warped), np.amax(Wind_input_March_warped))\n",
    "#plt.ylim(np.amin(Wind_input_March_warped), np.amax(Wind_input_March_warped))\n",
    "plt.plot([np.amin(Wind_input_July_warped), np.amax(Wind_input_July_warped)],[np.amin(Wind_input_July_warped), np.amax(Wind_input_July_warped)], color='red', linewidth=4)\n",
    "#plt.savefig('temperature-July_prediction_2017.png')"
   ]
  },
  {
   "cell_type": "code",
   "execution_count": null,
   "id": "9818b903-52d5-4552-9026-7f17f6c8aa31",
   "metadata": {},
   "outputs": [],
   "source": [
    "perr_NN_July = 100.*(Wind_input_July_warped-Predictions_July)/Wind_input_July_warped\n",
    "tk_NN_July=np.where(Wind_input_July_warped > 0.1)\n",
    "arr_perr_NN_July = (perr_NN_July)[tk_NN_July]\n",
    "arr_regular_NN_July=(Wind_input_July_warped-Predictions_July)\n",
    "m_NN_July=np.mean((arr_regular_NN_July))\n",
    "sd_NN_July=np.std((arr_regular_NN_July))\n",
    "\n",
    "\n",
    "plt.hist(arr_regular_NN_July, bins=np.arange(200)-100, density = 'true')\n",
    "\n",
    "plt.axvline(m_NN_July, color='k', linestyle='dashed')\n",
    "plt.axvline(m_NN_July+sd_NN_July, color='y', linestyle='dashed')\n",
    "plt.axvline(m_NN_July-sd_NN_July, color='y', linestyle='dashed')\n",
    "\n",
    "plt.xlim(-15,15)\n",
    "#plt.yscale('log')\n",
    "plt.title('Evaluation beyond training period (July 2017)')\n",
    "plt.xlabel('wind_GT-NN predicted temperature for July(km/s)')\n",
    "plt.ylabel('frequency')\n",
    "#plt.savefig('Error-temperature-July_prediction_2017.png')\n",
    "\n",
    "print('Mean err %: ', np.mean(abs(arr_regular_NN_July)))\n",
    "print('Median err %: ', np.median(abs(arr_regular_NN_July)))\n",
    "#print('Most probable err %: ', np.mode(abs(arr_regular_NN_March)))\n",
    "\n",
    "print('stddev:',sd_NN_July)"
   ]
  },
  {
   "cell_type": "markdown",
   "id": "42234aa3-7aca-4283-9a77-d01da50b9f4c",
   "metadata": {},
   "source": [
    "# August"
   ]
  },
  {
   "cell_type": "code",
   "execution_count": null,
   "id": "282744fc-eaea-4786-9223-b2a3d1cd6fb9",
   "metadata": {},
   "outputs": [],
   "source": [
    "DSCOVR_input_August, Wind_input_August=input_prep_func(ddata, Wind_Temp.values, 114000, 131000)\n",
    "query1_August, template_August, alignment_wd_August, ind_August=DTW_function(wdata, ddata, 114000, 131000)\n",
    "Wind_input_August_warped_=Wind_input_August[ind_August]\n",
    "\n",
    "# Generating the standardized values of DSCOVR_input and Wind_input for August\n",
    "DSCOVR_input_August_final=PredictorScalerFit.transform(DSCOVR_input_August)\n",
    "#Wind_input_August_warped_final=TargetVarScalerFit.transform(Wind_input_August_warped)\n",
    "\n",
    "\n",
    "prediction_distribution_August = bnn_model_full_Jan_Feb(DSCOVR_input_August_final)\n",
    "prediction_mean_August = prediction_distribution_August.mean().numpy().tolist()\n",
    "prediction_stdv_August = prediction_distribution_August.stddev().numpy()\n",
    "\n",
    "\n",
    "Predictions_August_ = TargetVarScalerFit.inverse_transform(prediction_mean_August)\n",
    "#Wind_input_March_warped_2=Wind_input_March_warped.reshape(-1,1)\n",
    "#Wind_input_test_orig_March = TargetVarScalerFit.inverse_transform(Wind_input_March_warped_2)\n",
    "#Test_Data_March = PredictorScalerFit.inverse_transform(DSCOVR_input_March_final)\n",
    "\n",
    "\n",
    "mask_August=((Predictions_August_ >= 1)&(Predictions_August_ <= 120))\n",
    "Predictions_August=Predictions_August_[mask_August]\n",
    "#Wind_input_March_warped_2=Wind_input_March_warped.reshape(-1,1)\n",
    "Wind_input_August_warped=Wind_input_August_warped_[mask_August]"
   ]
  },
  {
   "cell_type": "code",
   "execution_count": null,
   "id": "784e28c6-7d65-45e1-81c8-aa97ca1e7b43",
   "metadata": {},
   "outputs": [],
   "source": [
    "prediction_stdv_August_=prediction_stdv_August*TargetVarScalerFit.scale_\n",
    "\n",
    "# The 95% CI is computed as mean ± (1.96 * stdv)\n",
    "upper_August = (Predictions_August_ + (1.96 * prediction_stdv_August_)).tolist()\n",
    "lower_August = (Predictions_August_ - (1.96 * prediction_stdv_August_)).tolist()\n",
    "prediction_stdv_August_ = prediction_stdv_August_.tolist()\n",
    "\n",
    "\n",
    "sample=10\n",
    "    \n",
    "for idx in range(sample):\n",
    "    print(\n",
    "        f\"Prediction mean: {round(Predictions_August_[idx][0], 2)}, \"\n",
    "        f\"stddev: {round(prediction_stdv_August_[idx][0], 2)}, \"\n",
    "        f\"95% CI: [{round(upper_August[idx][0], 2)} - {round(lower_August[idx][0], 2)}]\"\n",
    "        f\" - Actual: {Wind_input_August_warped_[idx]}\"\n",
    "    )\n",
    "\n",
    "\n"
   ]
  },
  {
   "cell_type": "code",
   "execution_count": null,
   "id": "8567d56e-d8c4-4057-94c5-4451beda2edf",
   "metadata": {},
   "outputs": [],
   "source": [
    "import matplotlib.pyplot as plt\n",
    "import numpy as np\n",
    "\n",
    "# Flatten the upper and lower bounds\n",
    "upper_August_flat = np.ravel(upper_August)\n",
    "lower_August_flat = np.ravel(lower_August)\n",
    "\n",
    "# Plotting predictions\n",
    "plt.plot(Predictions_August_, label='DSCOVR NN prediction')\n",
    "\n",
    "# Plotting confidence interval\n",
    "plt.fill_between(range(len(Predictions_August_)), upper_August_flat, lower_August_flat, alpha=0.2, label='95% CI')\n",
    "\n",
    "# Plotting actual values\n",
    "plt.plot(Wind_input_August_warped_, label='Wind GT')\n",
    "\n",
    "plt.title('ANN applied beyond training period (August 2017)')\n",
    "plt.ylabel('temperature(km/s)')\n",
    "#plt.ylim(0,50)\n",
    "plt.legend()\n",
    "#plt.savefig('CI_temperature_August_DSCOVR_NN_prediction_and_Wind_GT_2017.png')\n",
    "plt.show()\n"
   ]
  },
  {
   "cell_type": "code",
   "execution_count": null,
   "id": "45786fdb-87dd-47da-94e0-041f1280d208",
   "metadata": {},
   "outputs": [],
   "source": [
    "mask_August=(Predictions_August_ >= 1) & (Predictions_August_<=120)\n",
    "Predictions_August=Predictions_August_[mask_August]\n",
    "Wind_input_August_warped=Wind_input_August_warped_[mask_August]"
   ]
  },
  {
   "cell_type": "code",
   "execution_count": null,
   "id": "75df2943-0e9b-4c0d-be1f-21460ab36644",
   "metadata": {},
   "outputs": [],
   "source": [
    "plt.plot(Predictions_August, label='DSCOVR NN prediction')\n",
    "#plt.plot(Wind_input_August_warped, label='DSCOVR NN prediction')\n",
    "plt.plot(Wind_input_August_warped, label='Wind GT')\n",
    "plt.title('ANN applied beyond training period (August 2017)')\n",
    "#plt.savefig('temperature_August_DSCOVR_NN_prediction_and_Wind GT_2017.png')\n",
    "#plt.xlabel('')\n",
    "plt.ylabel('temperature(km/s)')\n",
    "plt.legend()"
   ]
  },
  {
   "cell_type": "code",
   "execution_count": null,
   "id": "088f804a-24c4-4dfe-a99c-bd74338c34e6",
   "metadata": {},
   "outputs": [],
   "source": [
    "plt.plot(Wind_input_August_warped, Predictions_August, marker='.', markersize=1, linestyle = ' ')\n",
    "plt.xlabel(\"Wind GT temperature(km/s)\")\n",
    "plt.ylabel(\"DSCOVR FC temperature NN prediction (km/s)\")\n",
    "plt.title('Evaluation beyond training period (August 2017)')\n",
    "#plt.xlim(np.amin(Wind_input_March_warped), np.amax(Wind_input_March_warped))\n",
    "#plt.ylim(np.amin(Wind_input_March_warped), np.amax(Wind_input_March_warped))\n",
    "plt.plot([np.amin(Wind_input_August_warped), np.amax(Wind_input_August_warped)],[np.amin(Wind_input_August_warped), np.amax(Wind_input_August_warped)], color='red', linewidth=4)\n",
    "#plt.savefig('temperature-August_prediction_2017.png')"
   ]
  },
  {
   "cell_type": "code",
   "execution_count": null,
   "id": "2f436ff7-d600-4bb6-8947-cf41448aed7f",
   "metadata": {},
   "outputs": [],
   "source": [
    "perr_NN_August = 100.*(Wind_input_August_warped-Predictions_August)/Wind_input_August_warped\n",
    "tk_NN_August=np.where(Wind_input_August_warped > 0.1)\n",
    "arr_perr_NN_August = (perr_NN_August)[tk_NN_August]\n",
    "arr_regular_NN_August=(Wind_input_August_warped-Predictions_August)\n",
    "m_NN_August=np.mean((arr_regular_NN_August))\n",
    "sd_NN_August=np.std((arr_regular_NN_August))\n",
    "\n",
    "\n",
    "plt.hist(arr_regular_NN_August, bins=np.arange(200)-100, density = 'true')\n",
    "\n",
    "plt.axvline(m_NN_August, color='k', linestyle='dashed')\n",
    "plt.axvline(m_NN_August+sd_NN_August, color='y', linestyle='dashed')\n",
    "plt.axvline(m_NN_August-sd_NN_August, color='y', linestyle='dashed')\n",
    "\n",
    "plt.xlim(-15,15)\n",
    "#plt.yscale('log')\n",
    "plt.title('Evaluation beyond training period (August 2017)')\n",
    "plt.xlabel('wind_GT-NN predicted temperature for August(km/s)')\n",
    "plt.ylabel('frequency')\n",
    "#plt.savefig('Error-temperature-August_prediction_2017.png')\n",
    "\n",
    "print('Mean err %: ', np.mean(abs(arr_regular_NN_August)))\n",
    "print('Median err %: ', np.median(abs(arr_regular_NN_August)))\n",
    "#print('Most probable err %: ', np.mode(abs(arr_regular_NN_March)))\n",
    "\n",
    "print('stddev:',sd_NN_August)"
   ]
  },
  {
   "cell_type": "markdown",
   "id": "ca70803f-3a0f-4a96-966d-07c7eeb648d7",
   "metadata": {},
   "source": [
    "# September"
   ]
  },
  {
   "cell_type": "code",
   "execution_count": null,
   "id": "7a90cb86-d0a7-43bb-8c64-31f3f8c7ea02",
   "metadata": {},
   "outputs": [],
   "source": [
    "DSCOVR_input_September, Wind_input_September=input_prep_func(ddata, Wind_Temp.values, 131000, 146000)\n",
    "query1_September, template_September, alignment_wd_September, ind_September=DTW_function(wdata, ddata, 131000, 146000)\n",
    "Wind_input_September_warped_=Wind_input_September[ind_September]\n",
    "\n",
    "# Generating the standardized values of DSCOVR_input and Wind_input for September\n",
    "DSCOVR_input_September_final=PredictorScalerFit.transform(DSCOVR_input_September)\n",
    "#Wind_input_September_warped_final=TargetVarScalerFit.transform(Wind_input_September_warped)\n",
    "\n",
    "\n",
    "prediction_distribution_September = bnn_model_full_Jan_Feb(DSCOVR_input_September_final)\n",
    "prediction_mean_September = prediction_distribution_September.mean().numpy().tolist()\n",
    "prediction_stdv_September = prediction_distribution_September.stddev().numpy()\n",
    "\n",
    "\n",
    "Predictions_September_ = TargetVarScalerFit.inverse_transform(prediction_mean_September)\n",
    "#Wind_input_March_warped_2=Wind_input_March_warped.reshape(-1,1)\n",
    "#Wind_input_test_orig_March = TargetVarScalerFit.inverse_transform(Wind_input_March_warped_2)\n",
    "#Test_Data_March = PredictorScalerFit.inverse_transform(DSCOVR_input_March_final)\n",
    "\n",
    "\n",
    "mask_September=((Predictions_September_ >= 1)&(Predictions_September_ <= 120))\n",
    "Predictions_September=Predictions_September_[mask_September]\n",
    "#Wind_input_March_warped_2=Wind_input_March_warped.reshape(-1,1)\n",
    "Wind_input_September_warped=Wind_input_September_warped_[mask_September]"
   ]
  },
  {
   "cell_type": "code",
   "execution_count": null,
   "id": "f3a4d54a-9fdb-43ae-988e-c814c3a51e83",
   "metadata": {},
   "outputs": [],
   "source": [
    "prediction_stdv_September_=prediction_stdv_September*TargetVarScalerFit.scale_\n",
    "\n",
    "# The 95% CI is computed as mean ± (1.96 * stdv)\n",
    "upper_September = (Predictions_September_ + (1.96 * prediction_stdv_September_)).tolist()\n",
    "lower_September = (Predictions_September_ - (1.96 * prediction_stdv_September_)).tolist()\n",
    "prediction_stdv_September_ = prediction_stdv_September_.tolist()\n",
    "\n",
    "\n",
    "sample=10\n",
    "    \n",
    "for idx in range(sample):\n",
    "    print(\n",
    "        f\"Prediction mean: {round(Predictions_September_[idx][0], 2)}, \"\n",
    "        f\"stddev: {round(prediction_stdv_September_[idx][0], 2)}, \"\n",
    "        f\"95% CI: [{round(upper_September[idx][0], 2)} - {round(lower_September[idx][0], 2)}]\"\n",
    "        f\" - Actual: {Wind_input_September_warped_[idx]}\"\n",
    "    )\n",
    "\n",
    "\n"
   ]
  },
  {
   "cell_type": "code",
   "execution_count": null,
   "id": "7ce68b09-224f-4911-89a1-51d6ef0fb870",
   "metadata": {},
   "outputs": [],
   "source": [
    "import matplotlib.pyplot as plt\n",
    "import numpy as np\n",
    "\n",
    "# Flatten the upper and lower bounds\n",
    "upper_September_flat = np.ravel(upper_September)\n",
    "lower_September_flat = np.ravel(lower_September)\n",
    "\n",
    "# Plotting predictions\n",
    "plt.plot(Predictions_September_, label='DSCOVR NN prediction')\n",
    "\n",
    "# Plotting confidence interval\n",
    "plt.fill_between(range(len(Predictions_September_)), upper_September_flat, lower_September_flat, alpha=0.2, label='95% CI')\n",
    "\n",
    "# Plotting actual values\n",
    "plt.plot(Wind_input_September_warped_, label='Wind GT')\n",
    "\n",
    "plt.title('ANN applied beyond training period (September 2017)')\n",
    "plt.ylabel('temperature(km/s)')\n",
    "#plt.ylim(0,50)\n",
    "plt.legend()\n",
    "#plt.savefig('CI_temperature_September_DSCOVR_NN_prediction_and_Wind_GT_2017.png')\n",
    "plt.show()\n"
   ]
  },
  {
   "cell_type": "code",
   "execution_count": null,
   "id": "00fe4daa-7383-4db8-be13-76ee778dd6c2",
   "metadata": {},
   "outputs": [],
   "source": [
    "mask_September=(Predictions_September_ >= 1) & (Predictions_September_<=120)\n",
    "Predictions_September=Predictions_September_[mask_September]\n",
    "Wind_input_September_warped=Wind_input_September_warped_[mask_September]"
   ]
  },
  {
   "cell_type": "code",
   "execution_count": null,
   "id": "a2b0a381-2a00-4bf4-912e-9759c234ca12",
   "metadata": {},
   "outputs": [],
   "source": [
    "plt.plot(Predictions_September, label='DSCOVR NN prediction')\n",
    "#plt.plot(Wind_input_September_warped, label='DSCOVR NN prediction')\n",
    "plt.plot(Wind_input_September_warped, label='Wind GT')\n",
    "plt.title('ANN applied beyond training period (September 2017)')\n",
    "#plt.savefig('temperature_September_DSCOVR_NN_prediction_and_Wind GT_2017.png')\n",
    "#plt.xlabel('')\n",
    "plt.ylabel('temperature(km/s)')\n",
    "plt.legend()"
   ]
  },
  {
   "cell_type": "code",
   "execution_count": null,
   "id": "7dd8a73e-0dfe-4f91-911d-5b3984d3d3f2",
   "metadata": {},
   "outputs": [],
   "source": [
    "plt.plot(Wind_input_September_warped, Predictions_September, marker='.', markersize=1, linestyle = ' ')\n",
    "plt.xlabel(\"Wind GT temperature(km/s)\")\n",
    "plt.ylabel(\"DSCOVR FC temperature NN prediction (km/s)\")\n",
    "plt.title('Evaluation beyond training period (September 2017)')\n",
    "#plt.xlim(np.amin(Wind_input_March_warped), np.amax(Wind_input_March_warped))\n",
    "#plt.ylim(np.amin(Wind_input_March_warped), np.amax(Wind_input_March_warped))\n",
    "plt.plot([np.amin(Wind_input_September_warped), np.amax(Wind_input_September_warped)],[np.amin(Wind_input_September_warped), np.amax(Wind_input_September_warped)], color='red', linewidth=4)\n",
    "#plt.savefig('temperature-September_prediction_2017.png')"
   ]
  },
  {
   "cell_type": "code",
   "execution_count": null,
   "id": "f3d55fdc-54ca-4616-8f0c-438191800966",
   "metadata": {},
   "outputs": [],
   "source": [
    "perr_NN_September = 100.*(Wind_input_September_warped-Predictions_September)/Wind_input_September_warped\n",
    "tk_NN_September=np.where(Wind_input_September_warped > 0.1)\n",
    "arr_perr_NN_September = (perr_NN_September)[tk_NN_September]\n",
    "arr_regular_NN_September=(Wind_input_September_warped-Predictions_September)\n",
    "m_NN_September=np.mean((arr_regular_NN_September))\n",
    "sd_NN_September=np.std((arr_regular_NN_September))\n",
    "\n",
    "\n",
    "plt.hist(arr_regular_NN_September, bins=np.arange(200)-100, density = 'true')\n",
    "\n",
    "plt.axvline(m_NN_September, color='k', linestyle='dashed')\n",
    "plt.axvline(m_NN_September+sd_NN_September, color='y', linestyle='dashed')\n",
    "plt.axvline(m_NN_September-sd_NN_September, color='y', linestyle='dashed')\n",
    "\n",
    "plt.xlim(-25,25)\n",
    "#plt.yscale('log')\n",
    "plt.title('Evaluation beyond training period (September 2017)')\n",
    "plt.xlabel('wind_GT-NN predicted temperature for September(km/s)')\n",
    "plt.ylabel('frequency')\n",
    "#plt.savefig('Error-temperature-September_prediction_2017.png')\n",
    "\n",
    "print('Mean err %: ', np.mean(abs(arr_regular_NN_September)))\n",
    "print('Median err %: ', np.median(abs(arr_regular_NN_September)))\n",
    "#print('Most probable err %: ', np.mode(abs(arr_regular_NN_March)))\n",
    "\n",
    "print('stddev:',sd_NN_September)"
   ]
  },
  {
   "cell_type": "markdown",
   "id": "819bd8c3-2ff3-4288-9a77-243169fb7161",
   "metadata": {},
   "source": [
    "# October"
   ]
  },
  {
   "cell_type": "code",
   "execution_count": null,
   "id": "3f5c09eb-7a2c-4038-9d12-c26237dd053d",
   "metadata": {},
   "outputs": [],
   "source": [
    "DSCOVR_input_October, Wind_input_October=input_prep_func(ddata, Wind_Temp.values, 146000, 164000)\n",
    "query1_October, template_October, alignment_wd_October, ind_October=DTW_function(wdata, ddata, 146000, 164000)\n",
    "Wind_input_October_warped_=Wind_input_October[ind_October]\n",
    "\n",
    "# Generating the standardized values of DSCOVR_input and Wind_input for September\n",
    "DSCOVR_input_October_final=PredictorScalerFit.transform(DSCOVR_input_October)\n",
    "#Wind_input_September_warped_final=TargetVarScalerFit.transform(Wind_input_September_warped)\n",
    "\n",
    "\n",
    "prediction_distribution_October = bnn_model_full_Jan_Feb(DSCOVR_input_October_final)\n",
    "prediction_mean_October = prediction_distribution_October.mean().numpy().tolist()\n",
    "prediction_stdv_October = prediction_distribution_October.stddev().numpy()\n",
    "\n",
    "\n",
    "Predictions_October_ = TargetVarScalerFit.inverse_transform(prediction_mean_October)\n",
    "#Wind_input_March_warped_2=Wind_input_March_warped.reshape(-1,1)\n",
    "#Wind_input_test_orig_March = TargetVarScalerFit.inverse_transform(Wind_input_March_warped_2)\n",
    "#Test_Data_March = PredictorScalerFit.inverse_transform(DSCOVR_input_March_final)\n",
    "\n",
    "\n",
    "mask_October=((Predictions_October_ >= 1)&(Predictions_October_ <= 120))\n",
    "Predictions_October=Predictions_October_[mask_October]\n",
    "#Wind_input_March_warped_2=Wind_input_March_warped.reshape(-1,1)\n",
    "Wind_input_October_warped=Wind_input_October_warped_[mask_October]"
   ]
  },
  {
   "cell_type": "code",
   "execution_count": null,
   "id": "f026c5e7-f6f0-4a92-98b9-fd2c10d39bfc",
   "metadata": {},
   "outputs": [],
   "source": [
    "prediction_stdv_October_=prediction_stdv_October*TargetVarScalerFit.scale_\n",
    "\n",
    "# The 95% CI is computed as mean ± (1.96 * stdv)\n",
    "upper_October = (Predictions_October_ + (1.96 * prediction_stdv_October_)).tolist()\n",
    "lower_October = (Predictions_October_ - (1.96 * prediction_stdv_October_)).tolist()\n",
    "prediction_stdv_October_ = prediction_stdv_October_.tolist()\n",
    "\n",
    "\n",
    "sample=10\n",
    "    \n",
    "for idx in range(sample):\n",
    "    print(\n",
    "        f\"Prediction mean: {round(Predictions_October_[idx][0], 2)}, \"\n",
    "        f\"stddev: {round(prediction_stdv_October_[idx][0], 2)}, \"\n",
    "        f\"95% CI: [{round(upper_October[idx][0], 2)} - {round(lower_October[idx][0], 2)}]\"\n",
    "        f\" - Actual: {Wind_input_October_warped_[idx]}\"\n",
    "    )\n",
    "\n",
    "\n"
   ]
  },
  {
   "cell_type": "code",
   "execution_count": null,
   "id": "f242d59b-1fb7-482a-b500-2255554bcf98",
   "metadata": {},
   "outputs": [],
   "source": [
    "import matplotlib.pyplot as plt\n",
    "import numpy as np\n",
    "\n",
    "# Flatten the upper and lower bounds\n",
    "upper_October_flat = np.ravel(upper_October)\n",
    "lower_October_flat = np.ravel(lower_October)\n",
    "\n",
    "# Plotting predictions\n",
    "plt.plot(Predictions_October_, label='DSCOVR NN prediction')\n",
    "\n",
    "# Plotting confidence interval\n",
    "plt.fill_between(range(len(Predictions_October_)), upper_October_flat, lower_October_flat, alpha=0.2, label='95% CI')\n",
    "\n",
    "# Plotting actual values\n",
    "plt.plot(Wind_input_October_warped_, label='Wind GT')\n",
    "\n",
    "plt.title('ANN applied beyond training period (October 2017)')\n",
    "plt.ylabel('temperature(km/s)')\n",
    "#plt.ylim(0,50)\n",
    "plt.legend()\n",
    "#plt.savefig('CI_temperature_October_DSCOVR_NN_prediction_and_Wind_GT_2017.png')\n",
    "plt.show()\n"
   ]
  },
  {
   "cell_type": "code",
   "execution_count": null,
   "id": "a533328e-d06a-41d3-bf84-51c44ac721cc",
   "metadata": {},
   "outputs": [],
   "source": [
    "mask_October=(Predictions_October_ >= 1) & (Predictions_October_<=120)\n",
    "Predictions_October=Predictions_October_[mask_October]\n",
    "Wind_input_October_warped=Wind_input_October_warped_[mask_October]"
   ]
  },
  {
   "cell_type": "code",
   "execution_count": null,
   "id": "cb62b364-8bf0-4758-8e69-ed7bd6d09f57",
   "metadata": {},
   "outputs": [],
   "source": [
    "plt.plot(Predictions_October, label='DSCOVR NN prediction')\n",
    "#plt.plot(Wind_input_October_warped, label='DSCOVR NN prediction')\n",
    "plt.plot(Wind_input_October_warped, label='Wind GT')\n",
    "plt.title('ANN applied beyond training period (October 2017)')\n",
    "#plt.savefig('temperature_October_DSCOVR_NN_prediction_and_Wind GT_2017.png')\n",
    "#plt.xlabel('')\n",
    "plt.ylabel('temperature(km/s)')\n",
    "plt.legend()"
   ]
  },
  {
   "cell_type": "code",
   "execution_count": null,
   "id": "0da31613-0aec-46eb-ba99-60538d2985b5",
   "metadata": {},
   "outputs": [],
   "source": [
    "plt.plot(Wind_input_October_warped, Predictions_October, marker='.', markersize=1, linestyle = ' ')\n",
    "plt.xlabel(\"Wind GT temperature(km/s)\")\n",
    "plt.ylabel(\"DSCOVR FC temperature NN prediction (km/s)\")\n",
    "plt.title('Evaluation beyond training period (October 2017)')\n",
    "#plt.xlim(np.amin(Wind_input_March_warped), np.amax(Wind_input_March_warped))\n",
    "#plt.ylim(np.amin(Wind_input_March_warped), np.amax(Wind_input_March_warped))\n",
    "plt.plot([np.amin(Wind_input_October_warped), np.amax(Wind_input_October_warped)],[np.amin(Wind_input_October_warped), np.amax(Wind_input_October_warped)], color='red', linewidth=4)\n",
    "#plt.savefig('temperature-October_prediction_2017.png')"
   ]
  },
  {
   "cell_type": "code",
   "execution_count": null,
   "id": "7132d1f0-ad2c-4838-989c-08e863604f5e",
   "metadata": {},
   "outputs": [],
   "source": [
    "perr_NN_October = 100.*(Wind_input_October_warped-Predictions_October)/Wind_input_October_warped\n",
    "tk_NN_October=np.where(Wind_input_October_warped > 0.1)\n",
    "arr_perr_NN_October = (perr_NN_October)[tk_NN_October]\n",
    "arr_regular_NN_October=(Wind_input_October_warped-Predictions_October)\n",
    "m_NN_October=np.mean((arr_regular_NN_October))\n",
    "sd_NN_October=np.std((arr_regular_NN_October))\n",
    "\n",
    "\n",
    "plt.hist(arr_regular_NN_October, bins=np.arange(200)-100, density = 'true')\n",
    "\n",
    "plt.axvline(m_NN_October, color='k', linestyle='dashed')\n",
    "plt.axvline(m_NN_October+sd_NN_October, color='y', linestyle='dashed')\n",
    "plt.axvline(m_NN_October-sd_NN_October, color='y', linestyle='dashed')\n",
    "\n",
    "plt.xlim(-15,15)\n",
    "#plt.yscale('log')\n",
    "plt.title('Evaluation beyond training period (October 2017)')\n",
    "plt.xlabel('wind_GT-NN predicted temperature for October(km/s)')\n",
    "plt.ylabel('frequency')\n",
    "#plt.savefig('Error-temperature-October_prediction_2017.png')\n",
    "\n",
    "print('Mean err %: ', np.mean(abs(arr_regular_NN_October)))\n",
    "print('Median err %: ', np.median(abs(arr_regular_NN_October)))\n",
    "#print('Most probable err %: ', np.mode(abs(arr_regular_NN_March)))\n",
    "\n",
    "print('stddev:',sd_NN_October)"
   ]
  },
  {
   "cell_type": "markdown",
   "id": "5fa79dcf-7b4d-41f4-b9d1-c5368cbe8a52",
   "metadata": {},
   "source": [
    "# November"
   ]
  },
  {
   "cell_type": "code",
   "execution_count": null,
   "id": "1f2ebd9e-9e17-4f1c-9a25-653317c7f653",
   "metadata": {},
   "outputs": [],
   "source": [
    "DSCOVR_input_November, Wind_input_November=input_prep_func(ddata, Wind_Temp.values,164000, 180000)\n",
    "query1_November, template_November, alignment_wd_November, ind_November=DTW_function(wdata, ddata, 164000, 180000)\n",
    "Wind_input_November_warped_=Wind_input_November[ind_November]\n",
    "\n",
    "# Generating the standardized values of DSCOVR_input and Wind_input for September\n",
    "DSCOVR_input_November_final=PredictorScalerFit.transform(DSCOVR_input_November)\n",
    "#Wind_input_September_warped_final=TargetVarScalerFit.transform(Wind_input_September_warped)\n",
    "\n",
    "\n",
    "prediction_distribution_November = bnn_model_full_Jan_Feb(DSCOVR_input_November_final)\n",
    "prediction_mean_November = prediction_distribution_November.mean().numpy().tolist()\n",
    "prediction_stdv_November = prediction_distribution_November.stddev().numpy()\n",
    "\n",
    "\n",
    "Predictions_November_ = TargetVarScalerFit.inverse_transform(prediction_mean_November)\n",
    "#Wind_input_March_warped_2=Wind_input_March_warped.reshape(-1,1)\n",
    "#Wind_input_test_orig_March = TargetVarScalerFit.inverse_transform(Wind_input_March_warped_2)\n",
    "#Test_Data_March = PredictorScalerFit.inverse_transform(DSCOVR_input_March_final)\n",
    "\n",
    "\n",
    "mask_November=((Predictions_November_ >= 1)&(Predictions_November_ <= 120))\n",
    "Predictions_November=Predictions_November_[mask_November]\n",
    "#Wind_input_March_warped_2=Wind_input_March_warped.reshape(-1,1)\n",
    "Wind_input_November_warped=Wind_input_November_warped_[mask_November]"
   ]
  },
  {
   "cell_type": "code",
   "execution_count": null,
   "id": "be8bda4d-cfcd-4960-a3d1-aa6609bfd181",
   "metadata": {},
   "outputs": [],
   "source": [
    "prediction_stdv_November_=prediction_stdv_November*TargetVarScalerFit.scale_\n",
    "\n",
    "# The 95% CI is computed as mean ± (1.96 * stdv)\n",
    "upper_November = (Predictions_November_ + (1.96 * prediction_stdv_November_)).tolist()\n",
    "lower_November = (Predictions_November_ - (1.96 * prediction_stdv_November_)).tolist()\n",
    "prediction_stdv_November_ = prediction_stdv_November_.tolist()\n",
    "\n",
    "\n",
    "sample=10\n",
    "    \n",
    "for idx in range(sample):\n",
    "    print(\n",
    "        f\"Prediction mean: {round(Predictions_November_[idx][0], 2)}, \"\n",
    "        f\"stddev: {round(prediction_stdv_November_[idx][0], 2)}, \"\n",
    "        f\"95% CI: [{round(upper_November[idx][0], 2)} - {round(lower_November[idx][0], 2)}]\"\n",
    "        f\" - Actual: {Wind_input_November_warped_[idx]}\"\n",
    "    )\n",
    "\n",
    "\n"
   ]
  },
  {
   "cell_type": "code",
   "execution_count": null,
   "id": "d807aab5-10ff-4cbe-9889-4859df4f731c",
   "metadata": {},
   "outputs": [],
   "source": [
    "import matplotlib.pyplot as plt\n",
    "import numpy as np\n",
    "\n",
    "# Flatten the upper and lower bounds\n",
    "upper_November_flat = np.ravel(upper_November)\n",
    "lower_November_flat = np.ravel(lower_November)\n",
    "\n",
    "# Plotting predictions\n",
    "plt.plot(Predictions_November_, label='DSCOVR NN prediction')\n",
    "\n",
    "# Plotting confidence interval\n",
    "plt.fill_between(range(len(Predictions_November_)), upper_November_flat, lower_November_flat, alpha=0.2, label='95% CI')\n",
    "\n",
    "# Plotting actual values\n",
    "plt.plot(Wind_input_November_warped_, label='Wind GT')\n",
    "\n",
    "plt.title('ANN applied beyond training period (November 2017)')\n",
    "plt.ylabel('temperature(km/s)')\n",
    "#plt.ylim(0,50)\n",
    "plt.legend()\n",
    "#plt.savefig('CI_temperature_November_DSCOVR_NN_prediction_and_Wind_GT_2017.png')\n",
    "plt.show()\n"
   ]
  },
  {
   "cell_type": "code",
   "execution_count": null,
   "id": "aaf0c145-a115-47a1-8055-b5f7aeff2b75",
   "metadata": {},
   "outputs": [],
   "source": [
    "mask_November=(Predictions_November_ >= 1) & (Predictions_November_<=120)\n",
    "Predictions_November=Predictions_November_[mask_November]\n",
    "Wind_input_November_warped=Wind_input_November_warped_[mask_November]"
   ]
  },
  {
   "cell_type": "code",
   "execution_count": null,
   "id": "aff2c860-2a75-43a0-bc4a-5cc049e63faa",
   "metadata": {},
   "outputs": [],
   "source": [
    "plt.plot(Predictions_November, label='DSCOVR NN prediction')\n",
    "#plt.plot(Wind_input_November_warped, label='DSCOVR NN prediction')\n",
    "plt.plot(Wind_input_November_warped, label='Wind GT')\n",
    "plt.title('ANN applied beyond training period (November 2017)')\n",
    "#plt.savefig('temperature_November_DSCOVR_NN_prediction_and_Wind GT_2017.png')\n",
    "#plt.xlabel('')\n",
    "plt.ylabel('temperature(km/s)')\n",
    "plt.legend()"
   ]
  },
  {
   "cell_type": "code",
   "execution_count": null,
   "id": "48c048e8-50e9-4d0c-b4e1-1dbe8539c0eb",
   "metadata": {},
   "outputs": [],
   "source": [
    "plt.plot(Wind_input_November_warped, Predictions_November, marker='.', markersize=1, linestyle = ' ')\n",
    "plt.xlabel(\"Wind GT temperature(km/s)\")\n",
    "plt.ylabel(\"DSCOVR FC temperature NN prediction (km/s)\")\n",
    "plt.title('Evaluation beyond training period (November 2017)')\n",
    "#plt.xlim(np.amin(Wind_input_March_warped), np.amax(Wind_input_March_warped))\n",
    "#plt.ylim(np.amin(Wind_input_March_warped), np.amax(Wind_input_March_warped))\n",
    "plt.plot([np.amin(Wind_input_November_warped), np.amax(Wind_input_November_warped)],[np.amin(Wind_input_November_warped), np.amax(Wind_input_November_warped)], color='red', linewidth=4)\n",
    "#plt.savefig('temperature-November_prediction_2017.png')"
   ]
  },
  {
   "cell_type": "code",
   "execution_count": null,
   "id": "27c75921-22be-46cf-b072-008ea66f8bae",
   "metadata": {},
   "outputs": [],
   "source": [
    "perr_NN_November = 100.*(Wind_input_November_warped-Predictions_November)/Wind_input_November_warped\n",
    "tk_NN_November=np.where(Wind_input_November_warped > 0.1)\n",
    "arr_perr_NN_November = (perr_NN_November)[tk_NN_November]\n",
    "arr_regular_NN_November=(Wind_input_November_warped-Predictions_November)\n",
    "m_NN_November=np.mean((arr_regular_NN_November))\n",
    "sd_NN_November=np.std((arr_regular_NN_November))\n",
    "\n",
    "\n",
    "plt.hist(arr_regular_NN_November, bins=np.arange(200)-100, density = 'true')\n",
    "\n",
    "plt.axvline(m_NN_November, color='k', linestyle='dashed')\n",
    "plt.axvline(m_NN_November+sd_NN_November, color='y', linestyle='dashed')\n",
    "plt.axvline(m_NN_November-sd_NN_November, color='y', linestyle='dashed')\n",
    "\n",
    "plt.xlim(-15,15)\n",
    "#plt.yscale('log')\n",
    "plt.title('Evaluation beyond training period (November 2017)')\n",
    "plt.xlabel('wind_GT-NN predicted temperature for November(km/s)')\n",
    "plt.ylabel('frequency')\n",
    "#plt.savefig('Error-temperature-November_prediction_2017.png')\n",
    "\n",
    "print('Mean err %: ', np.mean(abs(arr_regular_NN_November)))\n",
    "print('Median err %: ', np.median(abs(arr_regular_NN_November)))\n",
    "#print('Most probable err %: ', np.mode(abs(arr_regular_NN_March)))\n",
    "\n",
    "print('stddev:',sd_NN_November)"
   ]
  },
  {
   "cell_type": "markdown",
   "id": "6dfbbd7a-b8f0-43e2-a4a9-092f2dc5e7bf",
   "metadata": {},
   "source": [
    "# December"
   ]
  },
  {
   "cell_type": "code",
   "execution_count": null,
   "id": "83462090-1933-490e-8011-ad2b1f633ded",
   "metadata": {},
   "outputs": [],
   "source": [
    "DSCOVR_input_December, Wind_input_December=input_prep_func(ddata, Wind_Temp.values, 180000, 197100)\n",
    "query1_December, template_December, alignment_wd_December, ind_December=DTW_function(wdata, ddata, 180000, 197100)\n",
    "Wind_input_December_warped_=Wind_input_December[ind_December]\n",
    "\n",
    "# Generating the standardized values of DSCOVR_input and Wind_input for September\n",
    "DSCOVR_input_December_final=PredictorScalerFit.transform(DSCOVR_input_December)\n",
    "#Wind_input_September_warped_final=TargetVarScalerFit.transform(Wind_input_September_warped)\n",
    "\n",
    "\n",
    "prediction_distribution_December = bnn_model_full_Jan_Feb(DSCOVR_input_December_final)\n",
    "prediction_mean_December = prediction_distribution_December.mean().numpy().tolist()\n",
    "prediction_stdv_December = prediction_distribution_December.stddev().numpy()\n",
    "\n",
    "\n",
    "Predictions_December_ = TargetVarScalerFit.inverse_transform(prediction_mean_December)\n",
    "#Wind_input_March_warped_2=Wind_input_March_warped.reshape(-1,1)\n",
    "#Wind_input_test_orig_March = TargetVarScalerFit.inverse_transform(Wind_input_March_warped_2)\n",
    "#Test_Data_March = PredictorScalerFit.inverse_transform(DSCOVR_input_March_final)\n",
    "\n",
    "\n",
    "mask_December=((Predictions_December_ >= 1)&(Predictions_December_ <= 120))\n",
    "Predictions_December=Predictions_December_[mask_December]\n",
    "#Wind_input_March_warped_2=Wind_input_March_warped.reshape(-1,1)\n",
    "Wind_input_December_warped=Wind_input_December_warped_[mask_December]"
   ]
  },
  {
   "cell_type": "code",
   "execution_count": null,
   "id": "7869f5d4-6b33-4729-ae90-ffc7ca306b47",
   "metadata": {},
   "outputs": [],
   "source": [
    "prediction_stdv_December_=prediction_stdv_December*TargetVarScalerFit.scale_\n",
    "\n",
    "# The 95% CI is computed as mean ± (1.96 * stdv)\n",
    "upper_December = (Predictions_December_ + (1.96 * prediction_stdv_December_)).tolist()\n",
    "lower_December = (Predictions_December_ - (1.96 * prediction_stdv_December_)).tolist()\n",
    "prediction_stdv_December_ = prediction_stdv_December_.tolist()\n",
    "\n",
    "\n",
    "sample=10\n",
    "    \n",
    "for idx in range(sample):\n",
    "    print(\n",
    "        f\"Prediction mean: {round(Predictions_December_[idx][0], 2)}, \"\n",
    "        f\"stddev: {round(prediction_stdv_December_[idx][0], 2)}, \"\n",
    "        f\"95% CI: [{round(upper_December[idx][0], 2)} - {round(lower_December[idx][0], 2)}]\"\n",
    "        f\" - Actual: {Wind_input_December_warped_[idx]}\"\n",
    "    )\n",
    "\n",
    "\n"
   ]
  },
  {
   "cell_type": "code",
   "execution_count": null,
   "id": "dcb4acf3-5d04-4a35-8f72-faac5841e83d",
   "metadata": {},
   "outputs": [],
   "source": [
    "import matplotlib.pyplot as plt\n",
    "import numpy as np\n",
    "\n",
    "# Flatten the upper and lower bounds\n",
    "upper_December_flat = np.ravel(upper_December)\n",
    "lower_December_flat = np.ravel(lower_December)\n",
    "\n",
    "# Plotting predictions\n",
    "plt.plot(Predictions_December_, label='DSCOVR NN prediction')\n",
    "\n",
    "# Plotting confidence interval\n",
    "plt.fill_between(range(len(Predictions_December_)), upper_December_flat, lower_December_flat, alpha=0.2, label='95% CI')\n",
    "\n",
    "# Plotting actual values\n",
    "plt.plot(Wind_input_December_warped_, label='Wind GT')\n",
    "\n",
    "plt.title('ANN applied beyond training period (December 2017)')\n",
    "plt.ylabel('temperature(km/s)')\n",
    "#plt.ylim(0,50)\n",
    "plt.legend()\n",
    "#plt.savefig('CI_temperature_December_DSCOVR_NN_prediction_and_Wind_GT_2017.png')\n",
    "plt.show()\n"
   ]
  },
  {
   "cell_type": "code",
   "execution_count": null,
   "id": "22826151-889a-4611-b50e-e4d7f8984b8e",
   "metadata": {},
   "outputs": [],
   "source": [
    "mask_December=(Predictions_December_ >= 1) & (Predictions_December_<=120)\n",
    "Predictions_December=Predictions_December_[mask_December]\n",
    "Wind_input_December_warped=Wind_input_December_warped_[mask_December]"
   ]
  },
  {
   "cell_type": "code",
   "execution_count": null,
   "id": "f903e10a-39f2-4c23-bb03-72c92524c087",
   "metadata": {},
   "outputs": [],
   "source": [
    "plt.plot(Predictions_December, label='DSCOVR NN prediction')\n",
    "#plt.plot(Wind_input_December_warped, label='DSCOVR NN prediction')\n",
    "plt.plot(Wind_input_December_warped, label='Wind GT')\n",
    "plt.title('ANN applied beyond training period (December 2017)')\n",
    "#plt.savefig('temperature_December_DSCOVR_NN_prediction_and_Wind GT_2017.png')\n",
    "#plt.xlabel('')\n",
    "plt.ylabel('temperature(km/s)')\n",
    "plt.legend()"
   ]
  },
  {
   "cell_type": "code",
   "execution_count": null,
   "id": "cf2f4bde-d69f-400d-aa11-de3c94543180",
   "metadata": {},
   "outputs": [],
   "source": [
    "plt.plot(Wind_input_December_warped, Predictions_December, marker='.', markersize=1, linestyle = ' ')\n",
    "plt.xlabel(\"Wind GT temperature(km/s)\")\n",
    "plt.ylabel(\"DSCOVR FC temperature NN prediction (km/s)\")\n",
    "plt.title('Evaluation beyond training period (December 2017)')\n",
    "#plt.xlim(np.amin(Wind_input_March_warped), np.amax(Wind_input_March_warped))\n",
    "#plt.ylim(np.amin(Wind_input_March_warped), np.amax(Wind_input_March_warped))\n",
    "plt.plot([np.amin(Wind_input_December_warped), np.amax(Wind_input_December_warped)],[np.amin(Wind_input_December_warped), np.amax(Wind_input_December_warped)], color='red', linewidth=4)\n",
    "#plt.savefig('temperature-December_prediction_2017.png')"
   ]
  },
  {
   "cell_type": "code",
   "execution_count": null,
   "id": "a3270fd2-dee6-47f3-a72b-494010474922",
   "metadata": {},
   "outputs": [],
   "source": [
    "perr_NN_December = 100.*(Wind_input_December_warped-Predictions_December)/Wind_input_December_warped\n",
    "tk_NN_December=np.where(Wind_input_December_warped > 0.1)\n",
    "arr_perr_NN_December = (perr_NN_December)[tk_NN_December]\n",
    "arr_regular_NN_December=(Wind_input_December_warped-Predictions_December)\n",
    "m_NN_December=np.mean((arr_regular_NN_December))\n",
    "sd_NN_December=np.std((arr_regular_NN_December))\n",
    "\n",
    "\n",
    "plt.hist(arr_regular_NN_December, bins=np.arange(200)-100, density = 'true')\n",
    "\n",
    "plt.axvline(m_NN_December, color='k', linestyle='dashed')\n",
    "plt.axvline(m_NN_December+sd_NN_December, color='y', linestyle='dashed')\n",
    "plt.axvline(m_NN_December-sd_NN_December, color='y', linestyle='dashed')\n",
    "\n",
    "plt.xlim(-15,15)\n",
    "#plt.yscale('log')\n",
    "plt.title('Evaluation beyond training period (December 2017)')\n",
    "plt.xlabel('wind_GT-NN predicted temperature for December(km/s)')\n",
    "plt.ylabel('frequency')\n",
    "#plt.savefig('Error-temperature-December_prediction_2017.png')\n",
    "\n",
    "print('Mean err %: ', np.mean(abs(arr_regular_NN_December)))\n",
    "print('Median err %: ', np.median(abs(arr_regular_NN_December)))\n",
    "#print('Most probable err %: ', np.mode(abs(arr_regular_NN_March)))\n",
    "\n",
    "print('stddev:',sd_NN_December)"
   ]
  },
  {
   "cell_type": "markdown",
   "id": "ac7e9129-c1bf-44ac-b544-e72dd4548340",
   "metadata": {},
   "source": [
    "# RMSE & stddev values"
   ]
  },
  {
   "cell_type": "code",
   "execution_count": null,
   "id": "2a3ba4ce-9870-4858-b18e-28dfec33d287",
   "metadata": {},
   "outputs": [],
   "source": [
    "stddev_A=[sd_NN_March, sd_NN_April, sd_NN_May, sd_NN_June, sd_NN_July, sd_NN_August, sd_NN_September, sd_NN_October, sd_NN_November, sd_NN_December]\n",
    "stddev_A"
   ]
  },
  {
   "cell_type": "code",
   "execution_count": null,
   "id": "86f6f48e-b52f-4339-ac05-e6196dd22025",
   "metadata": {},
   "outputs": [],
   "source": [
    "from sklearn.metrics import mean_squared_error\n",
    "#mean_squared_error\n",
    "\n",
    "#Jan_Feb_RMAE=np.sqrt(mean_squared_error(TestingData_GT.tolist(), TestingData_Predicted.tolist()))\n",
    "March_RMAE=np.sqrt(mean_squared_error(Wind_input_March_warped.tolist(), Predictions_March.tolist()))\n",
    "\n",
    "April_RMAE=np.sqrt(mean_squared_error(Wind_input_April_warped.tolist(), Predictions_April.tolist()))\n",
    "May_RMAE=np.sqrt(mean_squared_error(Wind_input_May_warped.tolist(), Predictions_May.tolist()))\n",
    "June_RMAE=np.sqrt(mean_squared_error(Wind_input_June_warped.tolist(), Predictions_June.tolist()))\n",
    "July_RMAE=np.sqrt(mean_squared_error(Wind_input_July_warped.tolist(), Predictions_July.tolist()))\n",
    "August_RMAE=np.sqrt(mean_squared_error(Wind_input_August_warped.tolist(), Predictions_August.tolist()))\n",
    "September_RMAE=np.sqrt(mean_squared_error(Wind_input_September_warped.tolist(), Predictions_September.tolist()))\n",
    "October_RMAE=np.sqrt(mean_squared_error(Wind_input_October_warped.tolist(), Predictions_October.tolist()))\n",
    "November_RMAE=np.sqrt(mean_squared_error(Wind_input_November_warped.tolist(), Predictions_November.tolist()))\n",
    "December_RMAE=np.sqrt(mean_squared_error(Wind_input_December_warped.tolist(), Predictions_December.tolist()))"
   ]
  },
  {
   "cell_type": "code",
   "execution_count": null,
   "id": "8eb1d407-8639-44f9-a5a3-eb4884ffe84b",
   "metadata": {},
   "outputs": [],
   "source": [
    "RMSE_A=[March_RMAE, April_RMAE, May_RMAE, June_RMAE, July_RMAE, August_RMAE, September_RMAE, October_RMAE, November_RMAE, December_RMAE]\n",
    "np.average([March_RMAE, April_RMAE, May_RMAE, June_RMAE, July_RMAE, August_RMAE, September_RMAE, October_RMAE, November_RMAE, December_RMAE])"
   ]
  },
  {
   "cell_type": "code",
   "execution_count": null,
   "id": "06391ba9-0d88-4923-b79d-8dce01af1767",
   "metadata": {},
   "outputs": [],
   "source": [
    "range_wind=pd.read_csv('./data_files/rangeofwindfiles/range_wind_temperature_2017.csv')\n",
    "def calculate_percentage_rmse(rmse, target_range):\n",
    "    percentage_rmse = (rmse / target_range) * 100\n",
    "    return percentage_rmse\n",
    "\n",
    "percent_rmse = calculate_percentage_rmse(np.average(RMSE_A),  range_wind['range_Wind'][0])\n",
    "print(percent_rmse)\n"
   ]
  },
  {
   "cell_type": "code",
   "execution_count": null,
   "id": "a2a9d69b-7f1d-444a-8b48-16a07c9e9c28",
   "metadata": {},
   "outputs": [],
   "source": [
    "range_wind['range_Wind'][0]"
   ]
  },
  {
   "cell_type": "code",
   "execution_count": null,
   "id": "0cc36ea4-4596-4461-88c4-60a881bc4531",
   "metadata": {},
   "outputs": [],
   "source": [
    "(9.64/101.99177348484848)*100"
   ]
  },
  {
   "cell_type": "code",
   "execution_count": null,
   "id": "a797c3e9-4ca3-4d14-8538-21739826e2f1",
   "metadata": {},
   "outputs": [],
   "source": [
    "import numpy as np\n",
    "import scipy.stats as stats\n",
    "import matplotlib.pyplot as plt\n",
    "\n",
    "# Assuming the necessary variables are already defined\n",
    "nsigma = np.arange(40) / 10\n",
    "percent_in_range = []\n",
    "\n",
    "for i in nsigma:\n",
    "    upper = TargetVarScalerFit.inverse_transform(prediction_mean_April + i * prediction_stdv_April)\n",
    "    lower = TargetVarScalerFit.inverse_transform(prediction_mean_April - i * prediction_stdv_April)\n",
    "    mask = (Wind_input_April_warped_ < upper) & (Wind_input_April_warped_ > lower)\n",
    "    fraction = np.sum(mask) / len(mask)\n",
    "    percent_in_range.append(100 * fraction)\n",
    "\n",
    "x_values=200 * (stats.norm.cdf(nsigma, loc=0, scale=1) - 0.5)\n",
    "plt.plot(x_values, percent_in_range, '-o')\n",
    "m=1\n",
    "b=0\n",
    "y_line= m*x_values+b\n",
    "plt.plot(x_values, y_line, label=f'Line: y = x', linestyle='--')\n",
    "\n",
    "plt.ylabel('Percentage of ground truth falling \\n in model confidence interval [%]')\n",
    "plt.xlabel('Model confidence interval [%]')\n",
    "plt.title('Temperature April 2017')\n",
    "#plt.show()\n",
    "plt.legend()\n",
    "plt.savefig('Final_CI_linear_plot_temperature_2017.png')"
   ]
  },
  {
   "cell_type": "markdown",
   "id": "2c21444b-798d-4809-954a-27b46cf84171",
   "metadata": {},
   "source": [
    "#2018\n",
    "range_wind=pd.read_csv('/Users/ssxguser/Downloads/rangeofwindfiles/range_wind_temperature_2018.csv')\n",
    "def calculate_percentage_rmse(rmse, target_range):\n",
    "    percentage_rmse = (rmse / target_range) * 100\n",
    "    return percentage_rmse\n",
    "\n",
    "percent_rmse = calculate_percentage_rmse(np.average(RMSE_A),  range_wind['range_Wind'][0])\n",
    "print(percent_rmse)"
   ]
  },
  {
   "cell_type": "code",
   "execution_count": null,
   "id": "a0e04957-db26-4595-876a-3c075ec876b7",
   "metadata": {},
   "outputs": [],
   "source": []
  },
  {
   "cell_type": "code",
   "execution_count": null,
   "id": "09a4c30c-f099-4d2b-affc-3e745e0e1c3b",
   "metadata": {},
   "outputs": [],
   "source": []
  },
  {
   "cell_type": "code",
   "execution_count": null,
   "id": "dc844bae-fd2c-4f10-90ef-c81f01663b72",
   "metadata": {},
   "outputs": [],
   "source": []
  },
  {
   "cell_type": "code",
   "execution_count": null,
   "id": "513a0d61-bdb8-4a4d-868b-876f0bd372f9",
   "metadata": {},
   "outputs": [],
   "source": []
  },
  {
   "cell_type": "code",
   "execution_count": null,
   "id": "fdfd6df0-aa15-4bd9-b59c-83ce8ab0cdc3",
   "metadata": {},
   "outputs": [],
   "source": []
  }
 ],
 "metadata": {
  "kernelspec": {
   "display_name": "Python 3",
   "language": "python",
   "name": "python3"
  },
  "language_info": {
   "codemirror_mode": {
    "name": "ipython",
    "version": 3
   },
   "file_extension": ".py",
   "mimetype": "text/x-python",
   "name": "python",
   "nbconvert_exporter": "python",
   "pygments_lexer": "ipython3",
   "version": "3.8.15"
  }
 },
 "nbformat": 4,
 "nbformat_minor": 5
}
